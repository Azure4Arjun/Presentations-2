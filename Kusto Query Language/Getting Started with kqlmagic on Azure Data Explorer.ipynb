{
    "metadata": {
        "kernelspec": {
            "name": "python3",
            "display_name": "Python 3"
        },
        "language_info": {
            "name": "python",
            "version": "3.6.6",
            "mimetype": "text/x-python",
            "codemirror_mode": {
                "name": "ipython",
                "version": 3
            },
            "pygments_lexer": "ipython3",
            "nbconvert_exporter": "python",
            "file_extension": ".py"
        }
    },
    "nbformat_minor": 2,
    "nbformat": 4,
    "cells": [
        {
            "cell_type": "markdown",
            "source": [
                "## Downloaded from https://notebooks.azure.com/ManojRaheja/projects/KustoMagicSamples/html/Getting%20Started%20with%20kqlmagic%20on%20Azure%20Data%20Explorer.ipynb\n",
                "# 1. Introduction\n",
                "\n",
                "Jupyter supports magic functions that extends the capabilities of kernel by supporting  additional commands that are not natively supported by the kernel. \n",
                "kqlmagic helps you to extend the capabilities of Python kernel in Jupyter Notebook  and allows you to run Kusto Query Language queries natively. It supports Azure Data Explorer, Application Insights, and Log Analytics as data sources to run queries against.\n",
                "\n",
                "This tutorial demonstrates some of the key capabilities of kqlmagic querying data from Azure Data Explorer. Please refer the following sample notebooks to learn all the available commands.\n",
                "\n",
                "* [Get Started with Kqlmagic for Azure Data Explorer](https://mybinder.org/v2/gh/Microsoft/jupyter-Kqlmagic/master?filepath=notebooks%2FQuickStart.ipynb) \n",
                "* [Get Started with Kqlmagic for Application Insights](https://mybinder.org/v2/gh/Microsoft/jupyter-Kqlmagic/master?filepath=notebooks%2FQuickStartAI.ipynb) \n",
                "* [Get Started with Kqlmagic for Log Analytics](https://mybinder.org/v2/gh/Microsoft/jupyter-Kqlmagic/master?filepath=notebooks%2FQuickStartLA.ipynb) \n",
                "* [Parametrize your Kqlmagic query with Python](https://mybinder.org/v2/gh/Microsoft/jupyter-Kqlmagic/master?filepath=notebooks%2FParametrizeYourQuery.ipynb) \n",
                "* [Choose colors palette for your Kqlmagic query chart result](https://mybinder.org/v2/gh/Microsoft/jupyter-Kqlmagic/master?filepath=notebooks%2FColorYourCharts.ipynb) \n",
                ""
            ],
            "metadata": {
                "azdata_cell_guid": "7f1a1940-fc67-4d11-b077-4efaeb43b9ac"
            }
        },
        {
            "cell_type": "markdown",
            "source": [
                "# 2. Prerequisite"
            ],
            "metadata": {
                "azdata_cell_guid": "71bf473c-3238-4c67-aa5b-a132854d7ebb"
            }
        },
        {
            "cell_type": "markdown",
            "source": [
                "### 2.1 Install kqlmagic library"
            ],
            "metadata": {
                "azdata_cell_guid": "4c922b08-8257-4317-b328-3a7851da83a6"
            }
        },
        {
            "cell_type": "code",
            "source": [
                "!pip install Kqlmagic --no-cache-dir  --upgrade"
            ],
            "metadata": {
                "trusted": true,
                "azdata_cell_guid": "4dc6e162-96ec-4f31-835b-811ddfe4bd20"
            },
            "outputs": [],
            "execution_count": null
        },
        {
            "cell_type": "markdown",
            "source": [
                "### 2.2 Load kqlmagic"
            ],
            "metadata": {
                "azdata_cell_guid": "ce0928f9-d4c3-4c9d-ae1d-4ee13b4aedac"
            }
        },
        {
            "cell_type": "code",
            "source": [
                "reload_ext Kqlmagic"
            ],
            "metadata": {
                "trusted": true,
                "azdata_cell_guid": "acb90494-8fe8-4a93-bf2e-faa3a8c0494f"
            },
            "outputs": [],
            "execution_count": null
        },
        {
            "cell_type": "markdown",
            "source": [
                "##  This section was edited by Taiob Ali\n",
                "##  July 13th 2020\n",
                "### Added a new data source\n",
                "### 2.3 Connect to the Azure Data Explorer Help cluster\n",
                "\n",
                "Following command connect to the Samples database hosted on Help cluster. For non-Microsoft AAD users, please replace the tenant name “Microsoft.com” with your AAD Tenant.\n",
                "\n",
                "First one is for following my demo code pointing to https://aka.ms/LADemo\n",
                "\n",
                "Second one is to run the codes in this notebook."
            ],
            "metadata": {
                "azdata_cell_guid": "efcfebf5-3668-4040-ab74-86ad948cdb59"
            }
        },
        {
            "cell_type": "code",
            "source": [
                "%kql loganalytics://workspace='DEMO_WORKSPACE';appkey='DEMO_KEY';alias='myworkspace'"
            ],
            "metadata": {
                "azdata_cell_guid": "e1b714bc-9bf3-43d6-9fb7-6ba7aa40b3a9"
            },
            "outputs": [],
            "execution_count": null
        },
        {
            "cell_type": "code",
            "source": [
                "%kql AzureDataExplorer://tenant=\"Microsoft.com\";code;cluster='help';database='Samples'"
            ],
            "metadata": {
                "trusted": true,
                "azdata_cell_guid": "5501ac33-c283-46f4-a0d0-7747f9b602f2"
            },
            "outputs": [],
            "execution_count": null
        },
        {
            "cell_type": "markdown",
            "source": [
                "# 3. Query and visualize\n",
                "In this section we will look at how to query and visualize data using kql render command and visualize data using ploy.ly library. All with an integrated experience using native KQL [render operator.](https://docs.microsoft.com/azure/kusto/query/renderoperator) kqlmagic supports most charts except timepivot, pivotchart, and ladderchart and all render with attributes are supported except: kind, ysplit, and accumulate. "
            ],
            "metadata": {
                "azdata_cell_guid": "2e3fd75a-228d-4a39-b22a-10281669e758"
            }
        },
        {
            "cell_type": "markdown",
            "source": [
                "### 3.1 Query and render piechart"
            ],
            "metadata": {
                "azdata_cell_guid": "ea102088-8bbd-47d4-ab47-d66de5215a14"
            }
        },
        {
            "cell_type": "code",
            "source": [
                "%%kql \n",
                "StormEvents \n",
                "| summarize statecount=count() by State\n",
                "| sort by statecount \n",
                "| limit 10\n",
                "| render piechart title=\"My Pie Chart by State\""
            ],
            "metadata": {
                "trusted": true,
                "azdata_cell_guid": "f6f58b15-3d70-44ee-9687-0f68c724c6e5"
            },
            "outputs": [],
            "execution_count": null
        },
        {
            "cell_type": "markdown",
            "source": [
                "### 3.2 Query and render timechart\n",
                "\n",
                "Here is another example of rendering timechart. These charts are interactive, try zooming in a specific time by selecting the time range.\n",
                ""
            ],
            "metadata": {
                "azdata_cell_guid": "03be49bf-0fd4-4327-a74d-b471da71afe0"
            }
        },
        {
            "cell_type": "code",
            "source": [
                "%%kql\n",
                "StormEvents\n",
                "| summarize count() by bin(StartTime,7d)\n",
                "| render timechart"
            ],
            "metadata": {
                "trusted": true,
                "azdata_cell_guid": "5caeaeb1-c2e0-4817-8052-4390654a031b"
            },
            "outputs": [],
            "execution_count": null
        },
        {
            "cell_type": "markdown",
            "source": [
                "# 4. Customize the chart colors\n",
                "If you don’t like the default color plate, you can customize the charts by setting the palette options. Let’s look at all the palette available to us. To learn more, please refer this sample notebook: [Choose colors palette for your Kqlmagic query chart result](https://mybinder.org/v2/gh/Microsoft/jupyter-Kqlmagic/master?filepath=notebooks%2FColorYourCharts.ipynb)"
            ],
            "metadata": {
                "azdata_cell_guid": "44679e81-bccc-4655-97fc-210235569588"
            }
        },
        {
            "cell_type": "code",
            "source": [
                "%kql --palettes -popup_window"
            ],
            "metadata": {
                "trusted": true,
                "azdata_cell_guid": "05caefc8-4675-4ce0-96d7-bb88cb542c16"
            },
            "outputs": [],
            "execution_count": null
        },
        {
            "cell_type": "markdown",
            "source": [
                "Let’s choose “cool” color palettes and render the query again."
            ],
            "metadata": {
                "azdata_cell_guid": "e91c1864-7cd1-4c0d-902e-aea21cfbee56"
            }
        },
        {
            "cell_type": "code",
            "source": [
                "%%kql -palette_name \"cool\"\n",
                "StormEvents \n",
                "| summarize statecount=count() by State\n",
                "| sort by statecount \n",
                "| limit 10\n",
                "| render piechart title=\"My Pie Chart by State\""
            ],
            "metadata": {
                "trusted": true,
                "azdata_cell_guid": "4511ba7f-65c4-4529-b184-b25792cc0d41"
            },
            "outputs": [],
            "execution_count": null
        },
        {
            "cell_type": "markdown",
            "source": [
                "# 5. Parametrize the query\n",
                "\n",
                "kqlmagic makes it very easy to interchange between Kusto Query Language and Python. To learn more, please refer this sample notebook: [Parametrize your Kqlmagic query with Python](https://mybinder.org/v2/gh/Microsoft/jupyter-Kqlmagic/master?filepath=notebooks%2FParametrizeYourQuery.ipynb) "
            ],
            "metadata": {
                "azdata_cell_guid": "ccb0da0f-54f9-4f85-84ee-d3c5785a3089"
            }
        },
        {
            "cell_type": "markdown",
            "source": [
                "### 5.1 User Python varialble in your KQL Query\n",
                "The following example demonstrates how you can use the value of a Python variable and in your KQL query to filter the data."
            ],
            "metadata": {
                "azdata_cell_guid": "c3260cc8-0f4b-4711-ba93-f9b7760c7f74"
            }
        },
        {
            "cell_type": "code",
            "source": [
                "statefilter = [\"TEXAS\", \"KANSAS\"]"
            ],
            "metadata": {
                "trusted": true,
                "azdata_cell_guid": "0e86b118-6add-4849-aa11-663aa974caa1"
            },
            "outputs": [],
            "execution_count": null
        },
        {
            "cell_type": "code",
            "source": [
                "%%kql\n",
                "let _state = statefilter;\n",
                "StormEvents \n",
                "| where State in (_state) \n",
                "| summarize statecount=count() by bin(StartTime,1d), State\n",
                "| render timechart title = \"Trend\""
            ],
            "metadata": {
                "trusted": true,
                "azdata_cell_guid": "68e23da0-1c03-46f2-acfe-342da50e7788"
            },
            "outputs": [],
            "execution_count": null
        },
        {
            "cell_type": "markdown",
            "source": [
                "### 5.2 Convert query results to Pandas DataFrame \n",
                "\n",
                "In previous example we looked at feeding a value from Python variable into KQL query. Now let’s access the results of KQL query in a Pandas DataFrame. You can access the last executed query results by variable name “_kql_raw_result_” and easily convert the results into a Pandas DataFrame."
            ],
            "metadata": {
                "azdata_cell_guid": "dfb3b5ec-bb53-461a-a3e5-47c3d80b75c5"
            }
        },
        {
            "cell_type": "code",
            "source": [
                "df = _kql_raw_result_.to_dataframe()\n",
                "df.head(10)"
            ],
            "metadata": {
                "trusted": true,
                "azdata_cell_guid": "e5a09f42-2917-4295-be64-f32eb9965073"
            },
            "outputs": [],
            "execution_count": null
        },
        {
            "cell_type": "markdown",
            "source": [
                "### 5.3 Chain up the queries using parameters \n",
                "\n",
                "In most analytics scenarios, you may want to create reusable notebooks that contains multiple queries. And feed the results from one query into the subsequent querie(s). The following example demonstrates how you can use the Python variable from the previous cell to filter the data."
            ],
            "metadata": {
                "azdata_cell_guid": "58ea12cb-d139-467f-9676-a8ff1f1e8acb"
            }
        },
        {
            "cell_type": "markdown",
            "source": [
                "#### 5.3.1 Let’s run a query to get top 10 States by DamageProperty"
            ],
            "metadata": {
                "azdata_cell_guid": "ea6c08ec-cc9d-4070-971d-de72e1e59920"
            }
        },
        {
            "cell_type": "code",
            "source": [
                "%%kql\n",
                "StormEvents \n",
                "| summarize max(DamageProperty) by State\n",
                "| order by max_DamageProperty desc\n",
                "| limit 10"
            ],
            "metadata": {
                "trusted": true,
                "azdata_cell_guid": "bda88d1a-bfdb-41e7-aa46-5008e978ccee"
            },
            "outputs": [],
            "execution_count": null
        },
        {
            "cell_type": "markdown",
            "source": [
                "#### 5.3.2 Extract the top State name and set it into a Python variable"
            ],
            "metadata": {
                "azdata_cell_guid": "0cb93b1c-3e71-4524-9056-ada4afb76f25"
            }
        },
        {
            "cell_type": "code",
            "source": [
                "df = _kql_raw_result_.to_dataframe()\n",
                "statefilter =df.loc[0].State\n",
                "statefilter"
            ],
            "metadata": {
                "trusted": true,
                "azdata_cell_guid": "c4e02d88-19d3-46e4-8bba-0ad2c2592233"
            },
            "outputs": [],
            "execution_count": null
        },
        {
            "cell_type": "markdown",
            "source": [
                "#### 5.3.3 Using \"let\" statement, set the Python variable in the query"
            ],
            "metadata": {
                "azdata_cell_guid": "137d82e2-b20f-4d28-ae6a-9c0204dd2a89"
            }
        },
        {
            "cell_type": "code",
            "source": [
                "%%kql\n",
                "let _state = statefilter;\n",
                "StormEvents \n",
                "| where State in (_state) \n",
                "| summarize statecount=count() by bin(StartTime,1d), State\n",
                "| render timechart title = \"Trend\""
            ],
            "metadata": {
                "trusted": true,
                "azdata_cell_guid": "a8720807-1b9b-4361-ae46-5280d9d5e6cc"
            },
            "outputs": [],
            "execution_count": null
        },
        {
            "cell_type": "markdown",
            "source": [
                "# 6. Next steps\n",
                "    \n",
                "Run the help command to know more and explore the following sample notebooks that contains all the supported features.\n",
                "* [Get Started with Kqlmagic for Azure Data Explorer](https://mybinder.org/v2/gh/Microsoft/jupyter-Kqlmagic/master?filepath=notebooks%2FQuickStart.ipynb) \n",
                "* [Get Started with Kqlmagic for Application Insights](https://mybinder.org/v2/gh/Microsoft/jupyter-Kqlmagic/master?filepath=notebooks%2FQuickStartAI.ipynb) \n",
                "* [Get Started with Kqlmagic for Log Analytics](https://mybinder.org/v2/gh/Microsoft/jupyter-Kqlmagic/master?filepath=notebooks%2FQuickStartLA.ipynb) \n",
                "* [Parametrize your Kqlmagic query with Python](https://mybinder.org/v2/gh/Microsoft/jupyter-Kqlmagic/master?filepath=notebooks%2FParametrizeYourQuery.ipynb) \n",
                "* [Choose colors palette for your Kqlmagic query chart result](https://mybinder.org/v2/gh/Microsoft/jupyter-Kqlmagic/master?filepath=notebooks%2FColorYourCharts.ipynb)\n",
                ""
            ],
            "metadata": {
                "azdata_cell_guid": "d6a46c26-13e8-4da1-880a-4fcec748ef65"
            }
        },
        {
            "cell_type": "code",
            "source": [
                "%kql --help \"help\""
            ],
            "metadata": {
                "trusted": true,
                "scrolled": true,
                "azdata_cell_guid": "0031d551-4855-423d-b251-af3f6b20a907"
            },
            "outputs": [],
            "execution_count": null
        }
    ]
}
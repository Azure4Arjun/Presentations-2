{
    "metadata": {
        "kernelspec": {
            "name": "python3",
            "display_name": "Python 3"
        },
        "language_info": {
            "name": "python",
            "version": "3.6.6",
            "mimetype": "text/x-python",
            "codemirror_mode": {
                "name": "ipython",
                "version": 3
            },
            "pygments_lexer": "ipython3",
            "nbconvert_exporter": "python",
            "file_extension": ".py"
        }
    },
    "nbformat_minor": 2,
    "nbformat": 4,
    "cells": [
        {
            "cell_type": "markdown",
            "source": [
                "## Downloaded from https://notebooks.azure.com/ManojRaheja/projects/KustoMagicSamples/html/Getting%20Started%20with%20kqlmagic%20on%20Azure%20Data%20Explorer.ipynb\n",
                "# 1. Introduction\n",
                "\n",
                "Jupyter supports magic functions that extends the capabilities of kernel by supporting  additional commands that are not natively supported by the kernel. \n",
                "kqlmagic helps you to extend the capabilities of Python kernel in Jupyter Notebook  and allows you to run Kusto Query Language queries natively. It supports Azure Data Explorer, Application Insights, and Log Analytics as data sources to run queries against.\n",
                "\n",
                "This tutorial demonstrates some of the key capabilities of kqlmagic querying data from Azure Data Explorer. Please refer the following sample notebooks to learn all the available commands.\n",
                "\n",
                "* [Get Started with Kqlmagic for Azure Data Explorer](https://mybinder.org/v2/gh/Microsoft/jupyter-Kqlmagic/master?filepath=notebooks%2FQuickStart.ipynb) \n",
                "* [Get Started with Kqlmagic for Application Insights](https://mybinder.org/v2/gh/Microsoft/jupyter-Kqlmagic/master?filepath=notebooks%2FQuickStartAI.ipynb) \n",
                "* [Get Started with Kqlmagic for Log Analytics](https://mybinder.org/v2/gh/Microsoft/jupyter-Kqlmagic/master?filepath=notebooks%2FQuickStartLA.ipynb) \n",
                "* [Parametrize your Kqlmagic query with Python](https://mybinder.org/v2/gh/Microsoft/jupyter-Kqlmagic/master?filepath=notebooks%2FParametrizeYourQuery.ipynb) \n",
                "* [Choose colors palette for your Kqlmagic query chart result](https://mybinder.org/v2/gh/Microsoft/jupyter-Kqlmagic/master?filepath=notebooks%2FColorYourCharts.ipynb) \n",
                ""
            ],
            "metadata": {
                "azdata_cell_guid": "7f1a1940-fc67-4d11-b077-4efaeb43b9ac"
            }
        },
        {
            "cell_type": "markdown",
            "source": [
                "# 2. Prerequisite"
            ],
            "metadata": {
                "azdata_cell_guid": "71bf473c-3238-4c67-aa5b-a132854d7ebb"
            }
        },
        {
            "cell_type": "markdown",
            "source": [
                "### 2.1 Install kqlmagic library"
            ],
            "metadata": {
                "azdata_cell_guid": "4c922b08-8257-4317-b328-3a7851da83a6"
            }
        },
        {
            "cell_type": "code",
            "source": [
                "!pip install Kqlmagic --no-cache-dir  --upgrade"
            ],
            "metadata": {
                "trusted": true,
                "azdata_cell_guid": "4dc6e162-96ec-4f31-835b-811ddfe4bd20"
            },
            "outputs": [],
            "execution_count": null
        },
        {
            "cell_type": "markdown",
            "source": [
                "### 2.2 Load kqlmagic"
            ],
            "metadata": {
                "azdata_cell_guid": "ce0928f9-d4c3-4c9d-ae1d-4ee13b4aedac"
            }
        },
        {
            "cell_type": "code",
            "source": [
                "reload_ext Kqlmagic"
            ],
            "metadata": {
                "trusted": true,
                "azdata_cell_guid": "acb90494-8fe8-4a93-bf2e-faa3a8c0494f"
            },
            "outputs": [],
            "execution_count": 20
        },
        {
            "cell_type": "markdown",
            "source": [
                "## This section was edited by Taiob Ali\n",
                "\n",
                "### October 25th 2020\n",
                "\n",
                "### Added a new data source\n",
                "\n",
                "### 2.3 Connect to the Azure Data Explorer Help cluster\n",
                "\n",
                "Following command connect to the Samples database hosted on Help cluster. For non-Microsoft AAD users, please replace the tenant name “Microsoft.com” with your AAD Tenant.\n",
                "\n",
                "First one is for following my demo code pointing to [https://aka.ms/LADemo](https://aka.ms/LADemo).\n",
                "\n",
                "Second one is to run the codes in this notebook."
            ],
            "metadata": {
                "azdata_cell_guid": "efcfebf5-3668-4040-ab74-86ad948cdb59"
            }
        },
        {
            "cell_type": "code",
            "source": [
                "%kql loganalytics://workspace='DEMO_WORKSPACE';appkey='DEMO_KEY';alias='myworkspace'"
            ],
            "metadata": {
                "azdata_cell_guid": "e1b714bc-9bf3-43d6-9fb7-6ba7aa40b3a9"
            },
            "outputs": [],
            "execution_count": null
        },
        {
            "cell_type": "code",
            "source": [
                "%kql AzureDataExplorer://tenant=\"Microsoft.com\";code;cluster='help';database='Samples'"
            ],
            "metadata": {
                "trusted": true,
                "azdata_cell_guid": "5501ac33-c283-46f4-a0d0-7747f9b602f2"
            },
            "outputs": [],
            "execution_count": null
        },
        {
            "cell_type": "markdown",
            "source": [
                "# 3. Query and visualize\n",
                "In this section we will look at how to query and visualize data using kql render command and visualize data using ploy.ly library. All with an integrated experience using native KQL [render operator.](https://docs.microsoft.com/azure/kusto/query/renderoperator) kqlmagic supports most charts except timepivot, pivotchart, and ladderchart and all render with attributes are supported except: kind, ysplit, and accumulate. "
            ],
            "metadata": {
                "azdata_cell_guid": "2e3fd75a-228d-4a39-b22a-10281669e758"
            }
        },
        {
            "cell_type": "markdown",
            "source": [
                "### 3.1 Query and render piechart"
            ],
            "metadata": {
                "azdata_cell_guid": "ea102088-8bbd-47d4-ab47-d66de5215a14"
            }
        },
        {
            "cell_type": "code",
            "source": [
                "%%kql \n",
                "StormEvents \n",
                "| summarize statecount=count() by State\n",
                "| sort by statecount \n",
                "| limit 10\n",
                "| render piechart title=\"My Pie Chart by State\""
            ],
            "metadata": {
                "trusted": true,
                "azdata_cell_guid": "f6f58b15-3d70-44ee-9687-0f68c724c6e5"
            },
            "outputs": [],
            "execution_count": null
        },
        {
            "cell_type": "markdown",
            "source": [
                "### 3.2 Query and render timechart\n",
                "\n",
                "Here is another example of rendering timechart. These charts are interactive, try zooming in a specific time by selecting the time range.\n",
                ""
            ],
            "metadata": {
                "azdata_cell_guid": "03be49bf-0fd4-4327-a74d-b471da71afe0"
            }
        },
        {
            "cell_type": "code",
            "source": [
                "%%kql\n",
                "StormEvents\n",
                "| summarize count() by bin(StartTime,7d)\n",
                "| render timechart"
            ],
            "metadata": {
                "trusted": true,
                "azdata_cell_guid": "5caeaeb1-c2e0-4817-8052-4390654a031b"
            },
            "outputs": [],
            "execution_count": null
        },
        {
            "cell_type": "markdown",
            "source": [
                "# 4. Customize the chart colors\n",
                "If you don’t like the default color plate, you can customize the charts by setting the palette options. Let’s look at all the palette available to us. To learn more, please refer this sample notebook: [Choose colors palette for your Kqlmagic query chart result](https://mybinder.org/v2/gh/Microsoft/jupyter-Kqlmagic/master?filepath=notebooks%2FColorYourCharts.ipynb)"
            ],
            "metadata": {
                "azdata_cell_guid": "44679e81-bccc-4655-97fc-210235569588"
            }
        },
        {
            "cell_type": "code",
            "source": [
                "%kql --palettes -popup_window"
            ],
            "metadata": {
                "trusted": true,
                "azdata_cell_guid": "05caefc8-4675-4ce0-96d7-bb88cb542c16"
            },
            "outputs": [],
            "execution_count": null
        },
        {
            "cell_type": "markdown",
            "source": [
                "Let’s choose “cool” color palettes and render the query again."
            ],
            "metadata": {
                "azdata_cell_guid": "e91c1864-7cd1-4c0d-902e-aea21cfbee56"
            }
        },
        {
            "cell_type": "code",
            "source": [
                "%%kql -palette_name \"cool\"\n",
                "StormEvents \n",
                "| summarize statecount=count() by State\n",
                "| sort by statecount \n",
                "| limit 10\n",
                "| render piechart title=\"My Pie Chart by State\""
            ],
            "metadata": {
                "trusted": true,
                "azdata_cell_guid": "4511ba7f-65c4-4529-b184-b25792cc0d41"
            },
            "outputs": [],
            "execution_count": null
        },
        {
            "cell_type": "markdown",
            "source": [
                "# 5\\. Next steps\n",
                "\n",
                "Run the help command to know more and explore the following sample notebooks that contains all the supported features.\n",
                "\n",
                "-   [Get Started with Kqlmagic for Azure Data Explorer](https://mybinder.org/v2/gh/Microsoft/jupyter-Kqlmagic/master?filepath=notebooks%2FQuickStart.ipynb)\n",
                "-   [Get Started with Kqlmagic for Application Insights](https://mybinder.org/v2/gh/Microsoft/jupyter-Kqlmagic/master?filepath=notebooks%2FQuickStartAI.ipynb)\n",
                "-   [Get Started with Kqlmagic for Log Analytics](https://mybinder.org/v2/gh/Microsoft/jupyter-Kqlmagic/master?filepath=notebooks%2FQuickStartLA.ipynb)\n",
                "-   [Parametrize your Kqlmagic query with Python](https://mybinder.org/v2/gh/Microsoft/jupyter-Kqlmagic/master?filepath=notebooks%2FParametrizeYourQuery.ipynb)\n",
                "-   [Choose colors palette for your Kqlmagic query chart result](https://mybinder.org/v2/gh/Microsoft/jupyter-Kqlmagic/master?filepath=notebooks%2FColorYourCharts.ipynb)"
            ],
            "metadata": {
                "azdata_cell_guid": "d6a46c26-13e8-4da1-880a-4fcec748ef65"
            }
        },
        {
            "cell_type": "code",
            "source": [
                "%kql --help \"help\""
            ],
            "metadata": {
                "trusted": true,
                "scrolled": true,
                "azdata_cell_guid": "0031d551-4855-423d-b251-af3f6b20a907"
            },
            "outputs": [],
            "execution_count": null
        },
        {
            "cell_type": "markdown",
            "source": [
                "# 6\\. How To Connect to Log Analytics Workspace\r\n",
                "\r\n",
                "To understand details about the connection string I followed the document [Connecting to Log Analytics using Azure Data Studio and KQL](https://www.red-gate.com/simple-talk/blogs/connecting-log-analytics-using-azure-data-studio-kql/) by Dennes Torres"
            ],
            "metadata": {
                "azdata_cell_guid": "37550bc1-75cc-4283-9cd5-d9042e69133f"
            }
        },
        {
            "cell_type": "code",
            "source": [
                "%kql loganalytics://tenant='d5b50601-6698-4f8f-beb6-1799fee4dc80';clientid='7b1fcde4-b8c5-479d-9896-5c767a19fe7a';clientsecret='f.4g9_kHqq1AU48M90T8kilP~_VsRnd9om';workspace='576e1cba-2d04-459e-b457-fe157e632dea';alias='Sqlalertdemo2'"
            ],
            "metadata": {
                "azdata_cell_guid": "c603e523-cf5c-4c69-8b34-7393ed9a9178"
            },
            "outputs": [
                {
                    "data": {
                        "text/plain": "<IPython.core.display.HTML object>",
                        "text/html": "<!DOCTYPE html>\n            <html><body>\n            <div style=''>\n            <a href='http://127.0.0.1:54641/webbrowser?url=http%3A//127.0.0.1%3A54641/files/.kqlmagic/temp_files/66614a64-2405-4dd8-86b7-11a7dc6f9113/popup__Sqlalertdemo2_at_loganalytics_schema.html%3Fkernelid%3D66614a64-2405-4dd8-86b7-11a7dc6f9113&kernelid=66614a64-2405-4dd8-86b7-11a7dc6f9113' style='padding: 2px 6px 2px 6px; color: #333333; background-color: #EEEEEE; border-top: 1px solid #CCCCCC; border-right: 1px solid #333333; border-bottom: 1px solid #333333; border-left: 1px solid #CCCCCC' target='popup__Sqlalertdemo2_at_loganalytics_schema'>popup schema Sqlalertdemo2@loganalytics</a>\n            </div>\n            </body></html>"
                    },
                    "metadata": {},
                    "output_type": "display_data"
                }
            ],
            "execution_count": 28
        },
        {
            "cell_type": "markdown",
            "source": [
                "### 6.1 Looking it top 10 collected metrics in last 24 hours"
            ],
            "metadata": {
                "azdata_cell_guid": "e1d9fbfd-682a-4c6b-a966-fbcf83561721"
            }
        },
        {
            "cell_type": "code",
            "source": [
                "%%kql\r\n",
                "AzureMetrics \r\n",
                "| where TimeGenerated > ago(24h) \r\n",
                "| limit 10"
            ],
            "metadata": {
                "azdata_cell_guid": "026c8627-9d17-4c45-a287-fd465e26913b",
                "tags": []
            },
            "outputs": [
                {
                    "data": {
                        "text/plain": "<IPython.core.display.HTML object>",
                        "text/html": "<html>\n        <head>\n            \n            \n        </head>\n        <body>\n            <div><p style='padding: 10px; color: #3a87ad; background-color: #d9edf7; border-color: #bce9f1'>&nbsp;&nbsp;&nbsp;Samples@help<br>&nbsp;*&nbsp;Sqlalertdemo2@loganalytics</p></div>\n        </body>\n        </html>"
                    },
                    "metadata": {},
                    "output_type": "display_data"
                },
                {
                    "data": {
                        "text/plain": "                               TenantId SourceSystem  \\\n0  576e1cba-2d04-459e-b457-fe157e632dea        Azure   \n1  576e1cba-2d04-459e-b457-fe157e632dea        Azure   \n2  576e1cba-2d04-459e-b457-fe157e632dea        Azure   \n3  576e1cba-2d04-459e-b457-fe157e632dea        Azure   \n4  576e1cba-2d04-459e-b457-fe157e632dea        Azure   \n5  576e1cba-2d04-459e-b457-fe157e632dea        Azure   \n6  576e1cba-2d04-459e-b457-fe157e632dea        Azure   \n7  576e1cba-2d04-459e-b457-fe157e632dea        Azure   \n8  576e1cba-2d04-459e-b457-fe157e632dea        Azure   \n9  576e1cba-2d04-459e-b457-fe157e632dea        Azure   \n\n              TimeGenerated  \\\n0 2020-10-25 20:12:00+00:00   \n1 2020-10-25 20:13:00+00:00   \n2 2020-10-25 20:14:00+00:00   \n3 2020-10-25 20:15:00+00:00   \n4 2020-10-25 20:16:00+00:00   \n5 2020-10-25 20:17:00+00:00   \n6 2020-10-25 20:18:00+00:00   \n7 2020-10-25 20:19:00+00:00   \n8 2020-10-25 20:20:00+00:00   \n9 2020-10-25 20:12:00+00:00   \n\n                                          ResourceId OperationName  \\\n0  /SUBSCRIPTIONS/18D92F52-AC34-4379-AB8B-5A5106F...                 \n1  /SUBSCRIPTIONS/18D92F52-AC34-4379-AB8B-5A5106F...                 \n2  /SUBSCRIPTIONS/18D92F52-AC34-4379-AB8B-5A5106F...                 \n3  /SUBSCRIPTIONS/18D92F52-AC34-4379-AB8B-5A5106F...                 \n4  /SUBSCRIPTIONS/18D92F52-AC34-4379-AB8B-5A5106F...                 \n5  /SUBSCRIPTIONS/18D92F52-AC34-4379-AB8B-5A5106F...                 \n6  /SUBSCRIPTIONS/18D92F52-AC34-4379-AB8B-5A5106F...                 \n7  /SUBSCRIPTIONS/18D92F52-AC34-4379-AB8B-5A5106F...                 \n8  /SUBSCRIPTIONS/18D92F52-AC34-4379-AB8B-5A5106F...                 \n9  /SUBSCRIPTIONS/18D92F52-AC34-4379-AB8B-5A5106F...                 \n\n  OperationVersion Category ResultType ResultSignature ResultDescription  \\\n0                                                                          \n1                                                                          \n2                                                                          \n3                                                                          \n4                                                                          \n5                                                                          \n6                                                                          \n7                                                                          \n8                                                                          \n9                                                                          \n\n   DurationMs CallerIpAddress CorrelationId              Resource  \\\n0         NaN                                SQLALERTDEMODATABASE   \n1         NaN                                SQLALERTDEMODATABASE   \n2         NaN                                SQLALERTDEMODATABASE   \n3         NaN                                SQLALERTDEMODATABASE   \n4         NaN                                SQLALERTDEMODATABASE   \n5         NaN                                SQLALERTDEMODATABASE   \n6         NaN                                SQLALERTDEMODATABASE   \n7         NaN                                SQLALERTDEMODATABASE   \n8         NaN                                SQLALERTDEMODATABASE   \n9         NaN                                SQLALERTDEMODATABASE   \n\n   ResourceGroup ResourceProvider                        SubscriptionId  \\\n0  SQLALERTDEMO1    MICROSOFT.SQL  18d92f52-ac34-4379-ab8b-5a5106f1c54e   \n1  SQLALERTDEMO1    MICROSOFT.SQL  18d92f52-ac34-4379-ab8b-5a5106f1c54e   \n2  SQLALERTDEMO1    MICROSOFT.SQL  18d92f52-ac34-4379-ab8b-5a5106f1c54e   \n3  SQLALERTDEMO1    MICROSOFT.SQL  18d92f52-ac34-4379-ab8b-5a5106f1c54e   \n4  SQLALERTDEMO1    MICROSOFT.SQL  18d92f52-ac34-4379-ab8b-5a5106f1c54e   \n5  SQLALERTDEMO1    MICROSOFT.SQL  18d92f52-ac34-4379-ab8b-5a5106f1c54e   \n6  SQLALERTDEMO1    MICROSOFT.SQL  18d92f52-ac34-4379-ab8b-5a5106f1c54e   \n7  SQLALERTDEMO1    MICROSOFT.SQL  18d92f52-ac34-4379-ab8b-5a5106f1c54e   \n8  SQLALERTDEMO1    MICROSOFT.SQL  18d92f52-ac34-4379-ab8b-5a5106f1c54e   \n9  SQLALERTDEMO1    MICROSOFT.SQL  18d92f52-ac34-4379-ab8b-5a5106f1c54e   \n\n                   MetricName  Total  Count  Maximum  Minimum  Average  \\\n0                 cpu_percent    0.0    4.0      0.0      0.0      0.0   \n1                 cpu_percent    0.0    4.0      0.0      0.0      0.0   \n2                 cpu_percent    0.0    4.0      0.0      0.0      0.0   \n3                 cpu_percent    0.0    4.0      0.0      0.0      0.0   \n4                 cpu_percent    0.0    4.0      0.0      0.0      0.0   \n5                 cpu_percent    0.0    4.0      0.0      0.0      0.0   \n6                 cpu_percent    0.0    4.0      0.0      0.0      0.0   \n7                 cpu_percent    0.0    4.0      0.0      0.0      0.0   \n8                 cpu_percent    0.0    4.0      0.0      0.0      0.0   \n9  physical_data_read_percent    0.0    4.0      0.0      0.0      0.0   \n\n  TimeGrain UnitName RemoteIPCountry  RemoteIPLatitude  RemoteIPLongitude  \\\n0      PT1M  Percent                               NaN                NaN   \n1      PT1M  Percent                               NaN                NaN   \n2      PT1M  Percent                               NaN                NaN   \n3      PT1M  Percent                               NaN                NaN   \n4      PT1M  Percent                               NaN                NaN   \n5      PT1M  Percent                               NaN                NaN   \n6      PT1M  Percent                               NaN                NaN   \n7      PT1M  Percent                               NaN                NaN   \n8      PT1M  Percent                               NaN                NaN   \n9      PT1M  Percent                               NaN                NaN   \n\n  MaliciousIP IndicatorThreatType Description TLPLevel Confidence  Severity  \\\n0                                                                       NaN   \n1                                                                       NaN   \n2                                                                       NaN   \n3                                                                       NaN   \n4                                                                       NaN   \n5                                                                       NaN   \n6                                                                       NaN   \n7                                                                       NaN   \n8                                                                       NaN   \n9                                                                       NaN   \n\n  FirstReportedDateTime LastReportedDateTime IsActive ReportReferenceLink  \\\n0                                                                           \n1                                                                           \n2                                                                           \n3                                                                           \n4                                                                           \n5                                                                           \n6                                                                           \n7                                                                           \n8                                                                           \n9                                                                           \n\n  AdditionalInformation          Type  \\\n0                        AzureMetrics   \n1                        AzureMetrics   \n2                        AzureMetrics   \n3                        AzureMetrics   \n4                        AzureMetrics   \n5                        AzureMetrics   \n6                        AzureMetrics   \n7                        AzureMetrics   \n8                        AzureMetrics   \n9                        AzureMetrics   \n\n                                         _ResourceId  \n0  /subscriptions/18d92f52-ac34-4379-ab8b-5a5106f...  \n1  /subscriptions/18d92f52-ac34-4379-ab8b-5a5106f...  \n2  /subscriptions/18d92f52-ac34-4379-ab8b-5a5106f...  \n3  /subscriptions/18d92f52-ac34-4379-ab8b-5a5106f...  \n4  /subscriptions/18d92f52-ac34-4379-ab8b-5a5106f...  \n5  /subscriptions/18d92f52-ac34-4379-ab8b-5a5106f...  \n6  /subscriptions/18d92f52-ac34-4379-ab8b-5a5106f...  \n7  /subscriptions/18d92f52-ac34-4379-ab8b-5a5106f...  \n8  /subscriptions/18d92f52-ac34-4379-ab8b-5a5106f...  \n9  /subscriptions/18d92f52-ac34-4379-ab8b-5a5106f...  ",
                        "text/html": "<div>\n<style scoped>\n    .dataframe tbody tr th:only-of-type {\n        vertical-align: middle;\n    }\n\n    .dataframe tbody tr th {\n        vertical-align: top;\n    }\n\n    .dataframe thead th {\n        text-align: right;\n    }\n</style>\n<table border=\"1\" class=\"dataframe\">\n  <thead>\n    <tr style=\"text-align: right;\">\n      <th></th>\n      <th>TenantId</th>\n      <th>SourceSystem</th>\n      <th>TimeGenerated</th>\n      <th>ResourceId</th>\n      <th>OperationName</th>\n      <th>OperationVersion</th>\n      <th>Category</th>\n      <th>ResultType</th>\n      <th>ResultSignature</th>\n      <th>ResultDescription</th>\n      <th>DurationMs</th>\n      <th>CallerIpAddress</th>\n      <th>CorrelationId</th>\n      <th>Resource</th>\n      <th>ResourceGroup</th>\n      <th>ResourceProvider</th>\n      <th>SubscriptionId</th>\n      <th>MetricName</th>\n      <th>Total</th>\n      <th>Count</th>\n      <th>Maximum</th>\n      <th>Minimum</th>\n      <th>Average</th>\n      <th>TimeGrain</th>\n      <th>UnitName</th>\n      <th>RemoteIPCountry</th>\n      <th>RemoteIPLatitude</th>\n      <th>RemoteIPLongitude</th>\n      <th>MaliciousIP</th>\n      <th>IndicatorThreatType</th>\n      <th>Description</th>\n      <th>TLPLevel</th>\n      <th>Confidence</th>\n      <th>Severity</th>\n      <th>FirstReportedDateTime</th>\n      <th>LastReportedDateTime</th>\n      <th>IsActive</th>\n      <th>ReportReferenceLink</th>\n      <th>AdditionalInformation</th>\n      <th>Type</th>\n      <th>_ResourceId</th>\n    </tr>\n  </thead>\n  <tbody>\n    <tr>\n      <th>0</th>\n      <td>576e1cba-2d04-459e-b457-fe157e632dea</td>\n      <td>Azure</td>\n      <td>2020-10-25 20:12:00+00:00</td>\n      <td>/SUBSCRIPTIONS/18D92F52-AC34-4379-AB8B-5A5106F...</td>\n      <td></td>\n      <td></td>\n      <td></td>\n      <td></td>\n      <td></td>\n      <td></td>\n      <td>NaN</td>\n      <td></td>\n      <td></td>\n      <td>SQLALERTDEMODATABASE</td>\n      <td>SQLALERTDEMO1</td>\n      <td>MICROSOFT.SQL</td>\n      <td>18d92f52-ac34-4379-ab8b-5a5106f1c54e</td>\n      <td>cpu_percent</td>\n      <td>0.0</td>\n      <td>4.0</td>\n      <td>0.0</td>\n      <td>0.0</td>\n      <td>0.0</td>\n      <td>PT1M</td>\n      <td>Percent</td>\n      <td></td>\n      <td>NaN</td>\n      <td>NaN</td>\n      <td></td>\n      <td></td>\n      <td></td>\n      <td></td>\n      <td></td>\n      <td>NaN</td>\n      <td></td>\n      <td></td>\n      <td></td>\n      <td></td>\n      <td></td>\n      <td>AzureMetrics</td>\n      <td>/subscriptions/18d92f52-ac34-4379-ab8b-5a5106f...</td>\n    </tr>\n    <tr>\n      <th>1</th>\n      <td>576e1cba-2d04-459e-b457-fe157e632dea</td>\n      <td>Azure</td>\n      <td>2020-10-25 20:13:00+00:00</td>\n      <td>/SUBSCRIPTIONS/18D92F52-AC34-4379-AB8B-5A5106F...</td>\n      <td></td>\n      <td></td>\n      <td></td>\n      <td></td>\n      <td></td>\n      <td></td>\n      <td>NaN</td>\n      <td></td>\n      <td></td>\n      <td>SQLALERTDEMODATABASE</td>\n      <td>SQLALERTDEMO1</td>\n      <td>MICROSOFT.SQL</td>\n      <td>18d92f52-ac34-4379-ab8b-5a5106f1c54e</td>\n      <td>cpu_percent</td>\n      <td>0.0</td>\n      <td>4.0</td>\n      <td>0.0</td>\n      <td>0.0</td>\n      <td>0.0</td>\n      <td>PT1M</td>\n      <td>Percent</td>\n      <td></td>\n      <td>NaN</td>\n      <td>NaN</td>\n      <td></td>\n      <td></td>\n      <td></td>\n      <td></td>\n      <td></td>\n      <td>NaN</td>\n      <td></td>\n      <td></td>\n      <td></td>\n      <td></td>\n      <td></td>\n      <td>AzureMetrics</td>\n      <td>/subscriptions/18d92f52-ac34-4379-ab8b-5a5106f...</td>\n    </tr>\n    <tr>\n      <th>2</th>\n      <td>576e1cba-2d04-459e-b457-fe157e632dea</td>\n      <td>Azure</td>\n      <td>2020-10-25 20:14:00+00:00</td>\n      <td>/SUBSCRIPTIONS/18D92F52-AC34-4379-AB8B-5A5106F...</td>\n      <td></td>\n      <td></td>\n      <td></td>\n      <td></td>\n      <td></td>\n      <td></td>\n      <td>NaN</td>\n      <td></td>\n      <td></td>\n      <td>SQLALERTDEMODATABASE</td>\n      <td>SQLALERTDEMO1</td>\n      <td>MICROSOFT.SQL</td>\n      <td>18d92f52-ac34-4379-ab8b-5a5106f1c54e</td>\n      <td>cpu_percent</td>\n      <td>0.0</td>\n      <td>4.0</td>\n      <td>0.0</td>\n      <td>0.0</td>\n      <td>0.0</td>\n      <td>PT1M</td>\n      <td>Percent</td>\n      <td></td>\n      <td>NaN</td>\n      <td>NaN</td>\n      <td></td>\n      <td></td>\n      <td></td>\n      <td></td>\n      <td></td>\n      <td>NaN</td>\n      <td></td>\n      <td></td>\n      <td></td>\n      <td></td>\n      <td></td>\n      <td>AzureMetrics</td>\n      <td>/subscriptions/18d92f52-ac34-4379-ab8b-5a5106f...</td>\n    </tr>\n    <tr>\n      <th>3</th>\n      <td>576e1cba-2d04-459e-b457-fe157e632dea</td>\n      <td>Azure</td>\n      <td>2020-10-25 20:15:00+00:00</td>\n      <td>/SUBSCRIPTIONS/18D92F52-AC34-4379-AB8B-5A5106F...</td>\n      <td></td>\n      <td></td>\n      <td></td>\n      <td></td>\n      <td></td>\n      <td></td>\n      <td>NaN</td>\n      <td></td>\n      <td></td>\n      <td>SQLALERTDEMODATABASE</td>\n      <td>SQLALERTDEMO1</td>\n      <td>MICROSOFT.SQL</td>\n      <td>18d92f52-ac34-4379-ab8b-5a5106f1c54e</td>\n      <td>cpu_percent</td>\n      <td>0.0</td>\n      <td>4.0</td>\n      <td>0.0</td>\n      <td>0.0</td>\n      <td>0.0</td>\n      <td>PT1M</td>\n      <td>Percent</td>\n      <td></td>\n      <td>NaN</td>\n      <td>NaN</td>\n      <td></td>\n      <td></td>\n      <td></td>\n      <td></td>\n      <td></td>\n      <td>NaN</td>\n      <td></td>\n      <td></td>\n      <td></td>\n      <td></td>\n      <td></td>\n      <td>AzureMetrics</td>\n      <td>/subscriptions/18d92f52-ac34-4379-ab8b-5a5106f...</td>\n    </tr>\n    <tr>\n      <th>4</th>\n      <td>576e1cba-2d04-459e-b457-fe157e632dea</td>\n      <td>Azure</td>\n      <td>2020-10-25 20:16:00+00:00</td>\n      <td>/SUBSCRIPTIONS/18D92F52-AC34-4379-AB8B-5A5106F...</td>\n      <td></td>\n      <td></td>\n      <td></td>\n      <td></td>\n      <td></td>\n      <td></td>\n      <td>NaN</td>\n      <td></td>\n      <td></td>\n      <td>SQLALERTDEMODATABASE</td>\n      <td>SQLALERTDEMO1</td>\n      <td>MICROSOFT.SQL</td>\n      <td>18d92f52-ac34-4379-ab8b-5a5106f1c54e</td>\n      <td>cpu_percent</td>\n      <td>0.0</td>\n      <td>4.0</td>\n      <td>0.0</td>\n      <td>0.0</td>\n      <td>0.0</td>\n      <td>PT1M</td>\n      <td>Percent</td>\n      <td></td>\n      <td>NaN</td>\n      <td>NaN</td>\n      <td></td>\n      <td></td>\n      <td></td>\n      <td></td>\n      <td></td>\n      <td>NaN</td>\n      <td></td>\n      <td></td>\n      <td></td>\n      <td></td>\n      <td></td>\n      <td>AzureMetrics</td>\n      <td>/subscriptions/18d92f52-ac34-4379-ab8b-5a5106f...</td>\n    </tr>\n    <tr>\n      <th>5</th>\n      <td>576e1cba-2d04-459e-b457-fe157e632dea</td>\n      <td>Azure</td>\n      <td>2020-10-25 20:17:00+00:00</td>\n      <td>/SUBSCRIPTIONS/18D92F52-AC34-4379-AB8B-5A5106F...</td>\n      <td></td>\n      <td></td>\n      <td></td>\n      <td></td>\n      <td></td>\n      <td></td>\n      <td>NaN</td>\n      <td></td>\n      <td></td>\n      <td>SQLALERTDEMODATABASE</td>\n      <td>SQLALERTDEMO1</td>\n      <td>MICROSOFT.SQL</td>\n      <td>18d92f52-ac34-4379-ab8b-5a5106f1c54e</td>\n      <td>cpu_percent</td>\n      <td>0.0</td>\n      <td>4.0</td>\n      <td>0.0</td>\n      <td>0.0</td>\n      <td>0.0</td>\n      <td>PT1M</td>\n      <td>Percent</td>\n      <td></td>\n      <td>NaN</td>\n      <td>NaN</td>\n      <td></td>\n      <td></td>\n      <td></td>\n      <td></td>\n      <td></td>\n      <td>NaN</td>\n      <td></td>\n      <td></td>\n      <td></td>\n      <td></td>\n      <td></td>\n      <td>AzureMetrics</td>\n      <td>/subscriptions/18d92f52-ac34-4379-ab8b-5a5106f...</td>\n    </tr>\n    <tr>\n      <th>6</th>\n      <td>576e1cba-2d04-459e-b457-fe157e632dea</td>\n      <td>Azure</td>\n      <td>2020-10-25 20:18:00+00:00</td>\n      <td>/SUBSCRIPTIONS/18D92F52-AC34-4379-AB8B-5A5106F...</td>\n      <td></td>\n      <td></td>\n      <td></td>\n      <td></td>\n      <td></td>\n      <td></td>\n      <td>NaN</td>\n      <td></td>\n      <td></td>\n      <td>SQLALERTDEMODATABASE</td>\n      <td>SQLALERTDEMO1</td>\n      <td>MICROSOFT.SQL</td>\n      <td>18d92f52-ac34-4379-ab8b-5a5106f1c54e</td>\n      <td>cpu_percent</td>\n      <td>0.0</td>\n      <td>4.0</td>\n      <td>0.0</td>\n      <td>0.0</td>\n      <td>0.0</td>\n      <td>PT1M</td>\n      <td>Percent</td>\n      <td></td>\n      <td>NaN</td>\n      <td>NaN</td>\n      <td></td>\n      <td></td>\n      <td></td>\n      <td></td>\n      <td></td>\n      <td>NaN</td>\n      <td></td>\n      <td></td>\n      <td></td>\n      <td></td>\n      <td></td>\n      <td>AzureMetrics</td>\n      <td>/subscriptions/18d92f52-ac34-4379-ab8b-5a5106f...</td>\n    </tr>\n    <tr>\n      <th>7</th>\n      <td>576e1cba-2d04-459e-b457-fe157e632dea</td>\n      <td>Azure</td>\n      <td>2020-10-25 20:19:00+00:00</td>\n      <td>/SUBSCRIPTIONS/18D92F52-AC34-4379-AB8B-5A5106F...</td>\n      <td></td>\n      <td></td>\n      <td></td>\n      <td></td>\n      <td></td>\n      <td></td>\n      <td>NaN</td>\n      <td></td>\n      <td></td>\n      <td>SQLALERTDEMODATABASE</td>\n      <td>SQLALERTDEMO1</td>\n      <td>MICROSOFT.SQL</td>\n      <td>18d92f52-ac34-4379-ab8b-5a5106f1c54e</td>\n      <td>cpu_percent</td>\n      <td>0.0</td>\n      <td>4.0</td>\n      <td>0.0</td>\n      <td>0.0</td>\n      <td>0.0</td>\n      <td>PT1M</td>\n      <td>Percent</td>\n      <td></td>\n      <td>NaN</td>\n      <td>NaN</td>\n      <td></td>\n      <td></td>\n      <td></td>\n      <td></td>\n      <td></td>\n      <td>NaN</td>\n      <td></td>\n      <td></td>\n      <td></td>\n      <td></td>\n      <td></td>\n      <td>AzureMetrics</td>\n      <td>/subscriptions/18d92f52-ac34-4379-ab8b-5a5106f...</td>\n    </tr>\n    <tr>\n      <th>8</th>\n      <td>576e1cba-2d04-459e-b457-fe157e632dea</td>\n      <td>Azure</td>\n      <td>2020-10-25 20:20:00+00:00</td>\n      <td>/SUBSCRIPTIONS/18D92F52-AC34-4379-AB8B-5A5106F...</td>\n      <td></td>\n      <td></td>\n      <td></td>\n      <td></td>\n      <td></td>\n      <td></td>\n      <td>NaN</td>\n      <td></td>\n      <td></td>\n      <td>SQLALERTDEMODATABASE</td>\n      <td>SQLALERTDEMO1</td>\n      <td>MICROSOFT.SQL</td>\n      <td>18d92f52-ac34-4379-ab8b-5a5106f1c54e</td>\n      <td>cpu_percent</td>\n      <td>0.0</td>\n      <td>4.0</td>\n      <td>0.0</td>\n      <td>0.0</td>\n      <td>0.0</td>\n      <td>PT1M</td>\n      <td>Percent</td>\n      <td></td>\n      <td>NaN</td>\n      <td>NaN</td>\n      <td></td>\n      <td></td>\n      <td></td>\n      <td></td>\n      <td></td>\n      <td>NaN</td>\n      <td></td>\n      <td></td>\n      <td></td>\n      <td></td>\n      <td></td>\n      <td>AzureMetrics</td>\n      <td>/subscriptions/18d92f52-ac34-4379-ab8b-5a5106f...</td>\n    </tr>\n    <tr>\n      <th>9</th>\n      <td>576e1cba-2d04-459e-b457-fe157e632dea</td>\n      <td>Azure</td>\n      <td>2020-10-25 20:12:00+00:00</td>\n      <td>/SUBSCRIPTIONS/18D92F52-AC34-4379-AB8B-5A5106F...</td>\n      <td></td>\n      <td></td>\n      <td></td>\n      <td></td>\n      <td></td>\n      <td></td>\n      <td>NaN</td>\n      <td></td>\n      <td></td>\n      <td>SQLALERTDEMODATABASE</td>\n      <td>SQLALERTDEMO1</td>\n      <td>MICROSOFT.SQL</td>\n      <td>18d92f52-ac34-4379-ab8b-5a5106f1c54e</td>\n      <td>physical_data_read_percent</td>\n      <td>0.0</td>\n      <td>4.0</td>\n      <td>0.0</td>\n      <td>0.0</td>\n      <td>0.0</td>\n      <td>PT1M</td>\n      <td>Percent</td>\n      <td></td>\n      <td>NaN</td>\n      <td>NaN</td>\n      <td></td>\n      <td></td>\n      <td></td>\n      <td></td>\n      <td></td>\n      <td>NaN</td>\n      <td></td>\n      <td></td>\n      <td></td>\n      <td></td>\n      <td></td>\n      <td>AzureMetrics</td>\n      <td>/subscriptions/18d92f52-ac34-4379-ab8b-5a5106f...</td>\n    </tr>\n  </tbody>\n</table>\n</div>",
                        "application/vnd.dataresource+json": {
                            "schema": {
                                "fields": [
                                    {
                                        "name": "TenantId",
                                        "type": "string"
                                    },
                                    {
                                        "name": "SourceSystem",
                                        "type": "string"
                                    },
                                    {
                                        "name": "TimeGenerated",
                                        "type": "datetime",
                                        "tz": "UTC"
                                    },
                                    {
                                        "name": "ResourceId",
                                        "type": "string"
                                    },
                                    {
                                        "name": "OperationName",
                                        "type": "string"
                                    },
                                    {
                                        "name": "OperationVersion",
                                        "type": "string"
                                    },
                                    {
                                        "name": "Category",
                                        "type": "string"
                                    },
                                    {
                                        "name": "ResultType",
                                        "type": "string"
                                    },
                                    {
                                        "name": "ResultSignature",
                                        "type": "string"
                                    },
                                    {
                                        "name": "ResultDescription",
                                        "type": "string"
                                    },
                                    {
                                        "name": "DurationMs",
                                        "type": "number"
                                    },
                                    {
                                        "name": "CallerIpAddress",
                                        "type": "string"
                                    },
                                    {
                                        "name": "CorrelationId",
                                        "type": "string"
                                    },
                                    {
                                        "name": "Resource",
                                        "type": "string"
                                    },
                                    {
                                        "name": "ResourceGroup",
                                        "type": "string"
                                    },
                                    {
                                        "name": "ResourceProvider",
                                        "type": "string"
                                    },
                                    {
                                        "name": "SubscriptionId",
                                        "type": "string"
                                    },
                                    {
                                        "name": "MetricName",
                                        "type": "string"
                                    },
                                    {
                                        "name": "Total",
                                        "type": "number"
                                    },
                                    {
                                        "name": "Count",
                                        "type": "number"
                                    },
                                    {
                                        "name": "Maximum",
                                        "type": "number"
                                    },
                                    {
                                        "name": "Minimum",
                                        "type": "number"
                                    },
                                    {
                                        "name": "Average",
                                        "type": "number"
                                    },
                                    {
                                        "name": "TimeGrain",
                                        "type": "string"
                                    },
                                    {
                                        "name": "UnitName",
                                        "type": "string"
                                    },
                                    {
                                        "name": "RemoteIPCountry",
                                        "type": "string"
                                    },
                                    {
                                        "name": "RemoteIPLatitude",
                                        "type": "number"
                                    },
                                    {
                                        "name": "RemoteIPLongitude",
                                        "type": "number"
                                    },
                                    {
                                        "name": "MaliciousIP",
                                        "type": "string"
                                    },
                                    {
                                        "name": "IndicatorThreatType",
                                        "type": "string"
                                    },
                                    {
                                        "name": "Description",
                                        "type": "string"
                                    },
                                    {
                                        "name": "TLPLevel",
                                        "type": "string"
                                    },
                                    {
                                        "name": "Confidence",
                                        "type": "string"
                                    },
                                    {
                                        "name": "Severity",
                                        "type": "number"
                                    },
                                    {
                                        "name": "FirstReportedDateTime",
                                        "type": "string"
                                    },
                                    {
                                        "name": "LastReportedDateTime",
                                        "type": "string"
                                    },
                                    {
                                        "name": "IsActive",
                                        "type": "string"
                                    },
                                    {
                                        "name": "ReportReferenceLink",
                                        "type": "string"
                                    },
                                    {
                                        "name": "AdditionalInformation",
                                        "type": "string"
                                    },
                                    {
                                        "name": "Type",
                                        "type": "string"
                                    },
                                    {
                                        "name": "_ResourceId",
                                        "type": "string"
                                    }
                                ],
                                "kqmagic_version": "0.1.113.post1"
                            },
                            "data": [
                                {
                                    "TenantId": "576e1cba-2d04-459e-b457-fe157e632dea",
                                    "SourceSystem": "Azure",
                                    "TimeGenerated": "2020-10-25T20:12:00.000Z",
                                    "ResourceId": "/SUBSCRIPTIONS/18D92F52-AC34-4379-AB8B-5A5106F1C54E/RESOURCEGROUPS/SQLALERTDEMO1/PROVIDERS/MICROSOFT.SQL/SERVERS/SQLALERTDEMOSERVER/DATABASES/SQLALERTDEMODATABASE",
                                    "OperationName": "",
                                    "OperationVersion": "",
                                    "Category": "",
                                    "ResultType": "",
                                    "ResultSignature": "",
                                    "ResultDescription": "",
                                    "DurationMs": null,
                                    "CallerIpAddress": "",
                                    "CorrelationId": "",
                                    "Resource": "SQLALERTDEMODATABASE",
                                    "ResourceGroup": "SQLALERTDEMO1",
                                    "ResourceProvider": "MICROSOFT.SQL",
                                    "SubscriptionId": "18d92f52-ac34-4379-ab8b-5a5106f1c54e",
                                    "MetricName": "cpu_percent",
                                    "Total": 0,
                                    "Count": 4,
                                    "Maximum": 0,
                                    "Minimum": 0,
                                    "Average": 0,
                                    "TimeGrain": "PT1M",
                                    "UnitName": "Percent",
                                    "RemoteIPCountry": "",
                                    "RemoteIPLatitude": null,
                                    "RemoteIPLongitude": null,
                                    "MaliciousIP": "",
                                    "IndicatorThreatType": "",
                                    "Description": "",
                                    "TLPLevel": "",
                                    "Confidence": "",
                                    "Severity": null,
                                    "FirstReportedDateTime": "",
                                    "LastReportedDateTime": "",
                                    "IsActive": "",
                                    "ReportReferenceLink": "",
                                    "AdditionalInformation": "",
                                    "Type": "AzureMetrics",
                                    "_ResourceId": "/subscriptions/18d92f52-ac34-4379-ab8b-5a5106f1c54e/resourcegroups/sqlalertdemo1/providers/microsoft.sql/servers/sqlalertdemoserver/databases/sqlalertdemodatabase"
                                },
                                {
                                    "TenantId": "576e1cba-2d04-459e-b457-fe157e632dea",
                                    "SourceSystem": "Azure",
                                    "TimeGenerated": "2020-10-25T20:13:00.000Z",
                                    "ResourceId": "/SUBSCRIPTIONS/18D92F52-AC34-4379-AB8B-5A5106F1C54E/RESOURCEGROUPS/SQLALERTDEMO1/PROVIDERS/MICROSOFT.SQL/SERVERS/SQLALERTDEMOSERVER/DATABASES/SQLALERTDEMODATABASE",
                                    "OperationName": "",
                                    "OperationVersion": "",
                                    "Category": "",
                                    "ResultType": "",
                                    "ResultSignature": "",
                                    "ResultDescription": "",
                                    "DurationMs": null,
                                    "CallerIpAddress": "",
                                    "CorrelationId": "",
                                    "Resource": "SQLALERTDEMODATABASE",
                                    "ResourceGroup": "SQLALERTDEMO1",
                                    "ResourceProvider": "MICROSOFT.SQL",
                                    "SubscriptionId": "18d92f52-ac34-4379-ab8b-5a5106f1c54e",
                                    "MetricName": "cpu_percent",
                                    "Total": 0,
                                    "Count": 4,
                                    "Maximum": 0,
                                    "Minimum": 0,
                                    "Average": 0,
                                    "TimeGrain": "PT1M",
                                    "UnitName": "Percent",
                                    "RemoteIPCountry": "",
                                    "RemoteIPLatitude": null,
                                    "RemoteIPLongitude": null,
                                    "MaliciousIP": "",
                                    "IndicatorThreatType": "",
                                    "Description": "",
                                    "TLPLevel": "",
                                    "Confidence": "",
                                    "Severity": null,
                                    "FirstReportedDateTime": "",
                                    "LastReportedDateTime": "",
                                    "IsActive": "",
                                    "ReportReferenceLink": "",
                                    "AdditionalInformation": "",
                                    "Type": "AzureMetrics",
                                    "_ResourceId": "/subscriptions/18d92f52-ac34-4379-ab8b-5a5106f1c54e/resourcegroups/sqlalertdemo1/providers/microsoft.sql/servers/sqlalertdemoserver/databases/sqlalertdemodatabase"
                                },
                                {
                                    "TenantId": "576e1cba-2d04-459e-b457-fe157e632dea",
                                    "SourceSystem": "Azure",
                                    "TimeGenerated": "2020-10-25T20:14:00.000Z",
                                    "ResourceId": "/SUBSCRIPTIONS/18D92F52-AC34-4379-AB8B-5A5106F1C54E/RESOURCEGROUPS/SQLALERTDEMO1/PROVIDERS/MICROSOFT.SQL/SERVERS/SQLALERTDEMOSERVER/DATABASES/SQLALERTDEMODATABASE",
                                    "OperationName": "",
                                    "OperationVersion": "",
                                    "Category": "",
                                    "ResultType": "",
                                    "ResultSignature": "",
                                    "ResultDescription": "",
                                    "DurationMs": null,
                                    "CallerIpAddress": "",
                                    "CorrelationId": "",
                                    "Resource": "SQLALERTDEMODATABASE",
                                    "ResourceGroup": "SQLALERTDEMO1",
                                    "ResourceProvider": "MICROSOFT.SQL",
                                    "SubscriptionId": "18d92f52-ac34-4379-ab8b-5a5106f1c54e",
                                    "MetricName": "cpu_percent",
                                    "Total": 0,
                                    "Count": 4,
                                    "Maximum": 0,
                                    "Minimum": 0,
                                    "Average": 0,
                                    "TimeGrain": "PT1M",
                                    "UnitName": "Percent",
                                    "RemoteIPCountry": "",
                                    "RemoteIPLatitude": null,
                                    "RemoteIPLongitude": null,
                                    "MaliciousIP": "",
                                    "IndicatorThreatType": "",
                                    "Description": "",
                                    "TLPLevel": "",
                                    "Confidence": "",
                                    "Severity": null,
                                    "FirstReportedDateTime": "",
                                    "LastReportedDateTime": "",
                                    "IsActive": "",
                                    "ReportReferenceLink": "",
                                    "AdditionalInformation": "",
                                    "Type": "AzureMetrics",
                                    "_ResourceId": "/subscriptions/18d92f52-ac34-4379-ab8b-5a5106f1c54e/resourcegroups/sqlalertdemo1/providers/microsoft.sql/servers/sqlalertdemoserver/databases/sqlalertdemodatabase"
                                },
                                {
                                    "TenantId": "576e1cba-2d04-459e-b457-fe157e632dea",
                                    "SourceSystem": "Azure",
                                    "TimeGenerated": "2020-10-25T20:15:00.000Z",
                                    "ResourceId": "/SUBSCRIPTIONS/18D92F52-AC34-4379-AB8B-5A5106F1C54E/RESOURCEGROUPS/SQLALERTDEMO1/PROVIDERS/MICROSOFT.SQL/SERVERS/SQLALERTDEMOSERVER/DATABASES/SQLALERTDEMODATABASE",
                                    "OperationName": "",
                                    "OperationVersion": "",
                                    "Category": "",
                                    "ResultType": "",
                                    "ResultSignature": "",
                                    "ResultDescription": "",
                                    "DurationMs": null,
                                    "CallerIpAddress": "",
                                    "CorrelationId": "",
                                    "Resource": "SQLALERTDEMODATABASE",
                                    "ResourceGroup": "SQLALERTDEMO1",
                                    "ResourceProvider": "MICROSOFT.SQL",
                                    "SubscriptionId": "18d92f52-ac34-4379-ab8b-5a5106f1c54e",
                                    "MetricName": "cpu_percent",
                                    "Total": 0,
                                    "Count": 4,
                                    "Maximum": 0,
                                    "Minimum": 0,
                                    "Average": 0,
                                    "TimeGrain": "PT1M",
                                    "UnitName": "Percent",
                                    "RemoteIPCountry": "",
                                    "RemoteIPLatitude": null,
                                    "RemoteIPLongitude": null,
                                    "MaliciousIP": "",
                                    "IndicatorThreatType": "",
                                    "Description": "",
                                    "TLPLevel": "",
                                    "Confidence": "",
                                    "Severity": null,
                                    "FirstReportedDateTime": "",
                                    "LastReportedDateTime": "",
                                    "IsActive": "",
                                    "ReportReferenceLink": "",
                                    "AdditionalInformation": "",
                                    "Type": "AzureMetrics",
                                    "_ResourceId": "/subscriptions/18d92f52-ac34-4379-ab8b-5a5106f1c54e/resourcegroups/sqlalertdemo1/providers/microsoft.sql/servers/sqlalertdemoserver/databases/sqlalertdemodatabase"
                                },
                                {
                                    "TenantId": "576e1cba-2d04-459e-b457-fe157e632dea",
                                    "SourceSystem": "Azure",
                                    "TimeGenerated": "2020-10-25T20:16:00.000Z",
                                    "ResourceId": "/SUBSCRIPTIONS/18D92F52-AC34-4379-AB8B-5A5106F1C54E/RESOURCEGROUPS/SQLALERTDEMO1/PROVIDERS/MICROSOFT.SQL/SERVERS/SQLALERTDEMOSERVER/DATABASES/SQLALERTDEMODATABASE",
                                    "OperationName": "",
                                    "OperationVersion": "",
                                    "Category": "",
                                    "ResultType": "",
                                    "ResultSignature": "",
                                    "ResultDescription": "",
                                    "DurationMs": null,
                                    "CallerIpAddress": "",
                                    "CorrelationId": "",
                                    "Resource": "SQLALERTDEMODATABASE",
                                    "ResourceGroup": "SQLALERTDEMO1",
                                    "ResourceProvider": "MICROSOFT.SQL",
                                    "SubscriptionId": "18d92f52-ac34-4379-ab8b-5a5106f1c54e",
                                    "MetricName": "cpu_percent",
                                    "Total": 0,
                                    "Count": 4,
                                    "Maximum": 0,
                                    "Minimum": 0,
                                    "Average": 0,
                                    "TimeGrain": "PT1M",
                                    "UnitName": "Percent",
                                    "RemoteIPCountry": "",
                                    "RemoteIPLatitude": null,
                                    "RemoteIPLongitude": null,
                                    "MaliciousIP": "",
                                    "IndicatorThreatType": "",
                                    "Description": "",
                                    "TLPLevel": "",
                                    "Confidence": "",
                                    "Severity": null,
                                    "FirstReportedDateTime": "",
                                    "LastReportedDateTime": "",
                                    "IsActive": "",
                                    "ReportReferenceLink": "",
                                    "AdditionalInformation": "",
                                    "Type": "AzureMetrics",
                                    "_ResourceId": "/subscriptions/18d92f52-ac34-4379-ab8b-5a5106f1c54e/resourcegroups/sqlalertdemo1/providers/microsoft.sql/servers/sqlalertdemoserver/databases/sqlalertdemodatabase"
                                },
                                {
                                    "TenantId": "576e1cba-2d04-459e-b457-fe157e632dea",
                                    "SourceSystem": "Azure",
                                    "TimeGenerated": "2020-10-25T20:17:00.000Z",
                                    "ResourceId": "/SUBSCRIPTIONS/18D92F52-AC34-4379-AB8B-5A5106F1C54E/RESOURCEGROUPS/SQLALERTDEMO1/PROVIDERS/MICROSOFT.SQL/SERVERS/SQLALERTDEMOSERVER/DATABASES/SQLALERTDEMODATABASE",
                                    "OperationName": "",
                                    "OperationVersion": "",
                                    "Category": "",
                                    "ResultType": "",
                                    "ResultSignature": "",
                                    "ResultDescription": "",
                                    "DurationMs": null,
                                    "CallerIpAddress": "",
                                    "CorrelationId": "",
                                    "Resource": "SQLALERTDEMODATABASE",
                                    "ResourceGroup": "SQLALERTDEMO1",
                                    "ResourceProvider": "MICROSOFT.SQL",
                                    "SubscriptionId": "18d92f52-ac34-4379-ab8b-5a5106f1c54e",
                                    "MetricName": "cpu_percent",
                                    "Total": 0,
                                    "Count": 4,
                                    "Maximum": 0,
                                    "Minimum": 0,
                                    "Average": 0,
                                    "TimeGrain": "PT1M",
                                    "UnitName": "Percent",
                                    "RemoteIPCountry": "",
                                    "RemoteIPLatitude": null,
                                    "RemoteIPLongitude": null,
                                    "MaliciousIP": "",
                                    "IndicatorThreatType": "",
                                    "Description": "",
                                    "TLPLevel": "",
                                    "Confidence": "",
                                    "Severity": null,
                                    "FirstReportedDateTime": "",
                                    "LastReportedDateTime": "",
                                    "IsActive": "",
                                    "ReportReferenceLink": "",
                                    "AdditionalInformation": "",
                                    "Type": "AzureMetrics",
                                    "_ResourceId": "/subscriptions/18d92f52-ac34-4379-ab8b-5a5106f1c54e/resourcegroups/sqlalertdemo1/providers/microsoft.sql/servers/sqlalertdemoserver/databases/sqlalertdemodatabase"
                                },
                                {
                                    "TenantId": "576e1cba-2d04-459e-b457-fe157e632dea",
                                    "SourceSystem": "Azure",
                                    "TimeGenerated": "2020-10-25T20:18:00.000Z",
                                    "ResourceId": "/SUBSCRIPTIONS/18D92F52-AC34-4379-AB8B-5A5106F1C54E/RESOURCEGROUPS/SQLALERTDEMO1/PROVIDERS/MICROSOFT.SQL/SERVERS/SQLALERTDEMOSERVER/DATABASES/SQLALERTDEMODATABASE",
                                    "OperationName": "",
                                    "OperationVersion": "",
                                    "Category": "",
                                    "ResultType": "",
                                    "ResultSignature": "",
                                    "ResultDescription": "",
                                    "DurationMs": null,
                                    "CallerIpAddress": "",
                                    "CorrelationId": "",
                                    "Resource": "SQLALERTDEMODATABASE",
                                    "ResourceGroup": "SQLALERTDEMO1",
                                    "ResourceProvider": "MICROSOFT.SQL",
                                    "SubscriptionId": "18d92f52-ac34-4379-ab8b-5a5106f1c54e",
                                    "MetricName": "cpu_percent",
                                    "Total": 0,
                                    "Count": 4,
                                    "Maximum": 0,
                                    "Minimum": 0,
                                    "Average": 0,
                                    "TimeGrain": "PT1M",
                                    "UnitName": "Percent",
                                    "RemoteIPCountry": "",
                                    "RemoteIPLatitude": null,
                                    "RemoteIPLongitude": null,
                                    "MaliciousIP": "",
                                    "IndicatorThreatType": "",
                                    "Description": "",
                                    "TLPLevel": "",
                                    "Confidence": "",
                                    "Severity": null,
                                    "FirstReportedDateTime": "",
                                    "LastReportedDateTime": "",
                                    "IsActive": "",
                                    "ReportReferenceLink": "",
                                    "AdditionalInformation": "",
                                    "Type": "AzureMetrics",
                                    "_ResourceId": "/subscriptions/18d92f52-ac34-4379-ab8b-5a5106f1c54e/resourcegroups/sqlalertdemo1/providers/microsoft.sql/servers/sqlalertdemoserver/databases/sqlalertdemodatabase"
                                },
                                {
                                    "TenantId": "576e1cba-2d04-459e-b457-fe157e632dea",
                                    "SourceSystem": "Azure",
                                    "TimeGenerated": "2020-10-25T20:19:00.000Z",
                                    "ResourceId": "/SUBSCRIPTIONS/18D92F52-AC34-4379-AB8B-5A5106F1C54E/RESOURCEGROUPS/SQLALERTDEMO1/PROVIDERS/MICROSOFT.SQL/SERVERS/SQLALERTDEMOSERVER/DATABASES/SQLALERTDEMODATABASE",
                                    "OperationName": "",
                                    "OperationVersion": "",
                                    "Category": "",
                                    "ResultType": "",
                                    "ResultSignature": "",
                                    "ResultDescription": "",
                                    "DurationMs": null,
                                    "CallerIpAddress": "",
                                    "CorrelationId": "",
                                    "Resource": "SQLALERTDEMODATABASE",
                                    "ResourceGroup": "SQLALERTDEMO1",
                                    "ResourceProvider": "MICROSOFT.SQL",
                                    "SubscriptionId": "18d92f52-ac34-4379-ab8b-5a5106f1c54e",
                                    "MetricName": "cpu_percent",
                                    "Total": 0,
                                    "Count": 4,
                                    "Maximum": 0,
                                    "Minimum": 0,
                                    "Average": 0,
                                    "TimeGrain": "PT1M",
                                    "UnitName": "Percent",
                                    "RemoteIPCountry": "",
                                    "RemoteIPLatitude": null,
                                    "RemoteIPLongitude": null,
                                    "MaliciousIP": "",
                                    "IndicatorThreatType": "",
                                    "Description": "",
                                    "TLPLevel": "",
                                    "Confidence": "",
                                    "Severity": null,
                                    "FirstReportedDateTime": "",
                                    "LastReportedDateTime": "",
                                    "IsActive": "",
                                    "ReportReferenceLink": "",
                                    "AdditionalInformation": "",
                                    "Type": "AzureMetrics",
                                    "_ResourceId": "/subscriptions/18d92f52-ac34-4379-ab8b-5a5106f1c54e/resourcegroups/sqlalertdemo1/providers/microsoft.sql/servers/sqlalertdemoserver/databases/sqlalertdemodatabase"
                                },
                                {
                                    "TenantId": "576e1cba-2d04-459e-b457-fe157e632dea",
                                    "SourceSystem": "Azure",
                                    "TimeGenerated": "2020-10-25T20:20:00.000Z",
                                    "ResourceId": "/SUBSCRIPTIONS/18D92F52-AC34-4379-AB8B-5A5106F1C54E/RESOURCEGROUPS/SQLALERTDEMO1/PROVIDERS/MICROSOFT.SQL/SERVERS/SQLALERTDEMOSERVER/DATABASES/SQLALERTDEMODATABASE",
                                    "OperationName": "",
                                    "OperationVersion": "",
                                    "Category": "",
                                    "ResultType": "",
                                    "ResultSignature": "",
                                    "ResultDescription": "",
                                    "DurationMs": null,
                                    "CallerIpAddress": "",
                                    "CorrelationId": "",
                                    "Resource": "SQLALERTDEMODATABASE",
                                    "ResourceGroup": "SQLALERTDEMO1",
                                    "ResourceProvider": "MICROSOFT.SQL",
                                    "SubscriptionId": "18d92f52-ac34-4379-ab8b-5a5106f1c54e",
                                    "MetricName": "cpu_percent",
                                    "Total": 0,
                                    "Count": 4,
                                    "Maximum": 0,
                                    "Minimum": 0,
                                    "Average": 0,
                                    "TimeGrain": "PT1M",
                                    "UnitName": "Percent",
                                    "RemoteIPCountry": "",
                                    "RemoteIPLatitude": null,
                                    "RemoteIPLongitude": null,
                                    "MaliciousIP": "",
                                    "IndicatorThreatType": "",
                                    "Description": "",
                                    "TLPLevel": "",
                                    "Confidence": "",
                                    "Severity": null,
                                    "FirstReportedDateTime": "",
                                    "LastReportedDateTime": "",
                                    "IsActive": "",
                                    "ReportReferenceLink": "",
                                    "AdditionalInformation": "",
                                    "Type": "AzureMetrics",
                                    "_ResourceId": "/subscriptions/18d92f52-ac34-4379-ab8b-5a5106f1c54e/resourcegroups/sqlalertdemo1/providers/microsoft.sql/servers/sqlalertdemoserver/databases/sqlalertdemodatabase"
                                },
                                {
                                    "TenantId": "576e1cba-2d04-459e-b457-fe157e632dea",
                                    "SourceSystem": "Azure",
                                    "TimeGenerated": "2020-10-25T20:12:00.000Z",
                                    "ResourceId": "/SUBSCRIPTIONS/18D92F52-AC34-4379-AB8B-5A5106F1C54E/RESOURCEGROUPS/SQLALERTDEMO1/PROVIDERS/MICROSOFT.SQL/SERVERS/SQLALERTDEMOSERVER/DATABASES/SQLALERTDEMODATABASE",
                                    "OperationName": "",
                                    "OperationVersion": "",
                                    "Category": "",
                                    "ResultType": "",
                                    "ResultSignature": "",
                                    "ResultDescription": "",
                                    "DurationMs": null,
                                    "CallerIpAddress": "",
                                    "CorrelationId": "",
                                    "Resource": "SQLALERTDEMODATABASE",
                                    "ResourceGroup": "SQLALERTDEMO1",
                                    "ResourceProvider": "MICROSOFT.SQL",
                                    "SubscriptionId": "18d92f52-ac34-4379-ab8b-5a5106f1c54e",
                                    "MetricName": "physical_data_read_percent",
                                    "Total": 0,
                                    "Count": 4,
                                    "Maximum": 0,
                                    "Minimum": 0,
                                    "Average": 0,
                                    "TimeGrain": "PT1M",
                                    "UnitName": "Percent",
                                    "RemoteIPCountry": "",
                                    "RemoteIPLatitude": null,
                                    "RemoteIPLongitude": null,
                                    "MaliciousIP": "",
                                    "IndicatorThreatType": "",
                                    "Description": "",
                                    "TLPLevel": "",
                                    "Confidence": "",
                                    "Severity": null,
                                    "FirstReportedDateTime": "",
                                    "LastReportedDateTime": "",
                                    "IsActive": "",
                                    "ReportReferenceLink": "",
                                    "AdditionalInformation": "",
                                    "Type": "AzureMetrics",
                                    "_ResourceId": "/subscriptions/18d92f52-ac34-4379-ab8b-5a5106f1c54e/resourcegroups/sqlalertdemo1/providers/microsoft.sql/servers/sqlalertdemoserver/databases/sqlalertdemodatabase"
                                }
                            ]
                        }
                    },
                    "metadata": {},
                    "output_type": "display_data"
                },
                {
                    "data": {
                        "text/plain": "<IPython.core.display.HTML object>",
                        "text/html": "<html>\n        <head>\n            \n            \n        </head>\n        <body>\n            <div><p style='padding: 10px; color: #3a87ad; background-color: #d9edf7; border-color: #bce9f1'>Done&nbsp;(00:01.719):&nbsp;10&nbsp;records</p></div>\n        </body>\n        </html>"
                    },
                    "metadata": {},
                    "output_type": "display_data"
                },
                {
                    "data": {
                        "text/plain": "[{'TenantId': '576e1cba-2d04-459e-b457-fe157e632dea', 'SourceSystem': 'Azure', 'TimeGenerated': datetime.datetime(2020, 10, 25, 20, 12, tzinfo=tzutc()), 'ResourceId': '/SUBSCRIPTIONS/18D92F52-AC34-4379-AB8B-5A5106F1C54E/RESOURCEGROUPS/SQLALERTDEMO1/PROVIDERS/MICROSOFT.SQL/SERVERS/SQLALERTDEMOSERVER/DATABASES/SQLALERTDEMODATABASE', 'OperationName': '', 'OperationVersion': '', 'Category': '', 'ResultType': '', 'ResultSignature': '', 'ResultDescription': '', 'DurationMs': None, 'CallerIpAddress': '', 'CorrelationId': '', 'Resource': 'SQLALERTDEMODATABASE', 'ResourceGroup': 'SQLALERTDEMO1', 'ResourceProvider': 'MICROSOFT.SQL', 'SubscriptionId': '18d92f52-ac34-4379-ab8b-5a5106f1c54e', 'MetricName': 'cpu_percent', 'Total': 0, 'Count': 4, 'Maximum': 0, 'Minimum': 0, 'Average': 0, 'TimeGrain': 'PT1M', 'UnitName': 'Percent', 'RemoteIPCountry': '', 'RemoteIPLatitude': None, 'RemoteIPLongitude': None, 'MaliciousIP': '', 'IndicatorThreatType': '', 'Description': '', 'TLPLevel': '', 'Confidence': '', 'Severity': None, 'FirstReportedDateTime': '', 'LastReportedDateTime': '', 'IsActive': '', 'ReportReferenceLink': '', 'AdditionalInformation': '', 'Type': 'AzureMetrics', '_ResourceId': '/subscriptions/18d92f52-ac34-4379-ab8b-5a5106f1c54e/resourcegroups/sqlalertdemo1/providers/microsoft.sql/servers/sqlalertdemoserver/databases/sqlalertdemodatabase'},\n {'TenantId': '576e1cba-2d04-459e-b457-fe157e632dea', 'SourceSystem': 'Azure', 'TimeGenerated': datetime.datetime(2020, 10, 25, 20, 13, tzinfo=tzutc()), 'ResourceId': '/SUBSCRIPTIONS/18D92F52-AC34-4379-AB8B-5A5106F1C54E/RESOURCEGROUPS/SQLALERTDEMO1/PROVIDERS/MICROSOFT.SQL/SERVERS/SQLALERTDEMOSERVER/DATABASES/SQLALERTDEMODATABASE', 'OperationName': '', 'OperationVersion': '', 'Category': '', 'ResultType': '', 'ResultSignature': '', 'ResultDescription': '', 'DurationMs': None, 'CallerIpAddress': '', 'CorrelationId': '', 'Resource': 'SQLALERTDEMODATABASE', 'ResourceGroup': 'SQLALERTDEMO1', 'ResourceProvider': 'MICROSOFT.SQL', 'SubscriptionId': '18d92f52-ac34-4379-ab8b-5a5106f1c54e', 'MetricName': 'cpu_percent', 'Total': 0, 'Count': 4, 'Maximum': 0, 'Minimum': 0, 'Average': 0, 'TimeGrain': 'PT1M', 'UnitName': 'Percent', 'RemoteIPCountry': '', 'RemoteIPLatitude': None, 'RemoteIPLongitude': None, 'MaliciousIP': '', 'IndicatorThreatType': '', 'Description': '', 'TLPLevel': '', 'Confidence': '', 'Severity': None, 'FirstReportedDateTime': '', 'LastReportedDateTime': '', 'IsActive': '', 'ReportReferenceLink': '', 'AdditionalInformation': '', 'Type': 'AzureMetrics', '_ResourceId': '/subscriptions/18d92f52-ac34-4379-ab8b-5a5106f1c54e/resourcegroups/sqlalertdemo1/providers/microsoft.sql/servers/sqlalertdemoserver/databases/sqlalertdemodatabase'},\n {'TenantId': '576e1cba-2d04-459e-b457-fe157e632dea', 'SourceSystem': 'Azure', 'TimeGenerated': datetime.datetime(2020, 10, 25, 20, 14, tzinfo=tzutc()), 'ResourceId': '/SUBSCRIPTIONS/18D92F52-AC34-4379-AB8B-5A5106F1C54E/RESOURCEGROUPS/SQLALERTDEMO1/PROVIDERS/MICROSOFT.SQL/SERVERS/SQLALERTDEMOSERVER/DATABASES/SQLALERTDEMODATABASE', 'OperationName': '', 'OperationVersion': '', 'Category': '', 'ResultType': '', 'ResultSignature': '', 'ResultDescription': '', 'DurationMs': None, 'CallerIpAddress': '', 'CorrelationId': '', 'Resource': 'SQLALERTDEMODATABASE', 'ResourceGroup': 'SQLALERTDEMO1', 'ResourceProvider': 'MICROSOFT.SQL', 'SubscriptionId': '18d92f52-ac34-4379-ab8b-5a5106f1c54e', 'MetricName': 'cpu_percent', 'Total': 0, 'Count': 4, 'Maximum': 0, 'Minimum': 0, 'Average': 0, 'TimeGrain': 'PT1M', 'UnitName': 'Percent', 'RemoteIPCountry': '', 'RemoteIPLatitude': None, 'RemoteIPLongitude': None, 'MaliciousIP': '', 'IndicatorThreatType': '', 'Description': '', 'TLPLevel': '', 'Confidence': '', 'Severity': None, 'FirstReportedDateTime': '', 'LastReportedDateTime': '', 'IsActive': '', 'ReportReferenceLink': '', 'AdditionalInformation': '', 'Type': 'AzureMetrics', '_ResourceId': '/subscriptions/18d92f52-ac34-4379-ab8b-5a5106f1c54e/resourcegroups/sqlalertdemo1/providers/microsoft.sql/servers/sqlalertdemoserver/databases/sqlalertdemodatabase'},\n {'TenantId': '576e1cba-2d04-459e-b457-fe157e632dea', 'SourceSystem': 'Azure', 'TimeGenerated': datetime.datetime(2020, 10, 25, 20, 15, tzinfo=tzutc()), 'ResourceId': '/SUBSCRIPTIONS/18D92F52-AC34-4379-AB8B-5A5106F1C54E/RESOURCEGROUPS/SQLALERTDEMO1/PROVIDERS/MICROSOFT.SQL/SERVERS/SQLALERTDEMOSERVER/DATABASES/SQLALERTDEMODATABASE', 'OperationName': '', 'OperationVersion': '', 'Category': '', 'ResultType': '', 'ResultSignature': '', 'ResultDescription': '', 'DurationMs': None, 'CallerIpAddress': '', 'CorrelationId': '', 'Resource': 'SQLALERTDEMODATABASE', 'ResourceGroup': 'SQLALERTDEMO1', 'ResourceProvider': 'MICROSOFT.SQL', 'SubscriptionId': '18d92f52-ac34-4379-ab8b-5a5106f1c54e', 'MetricName': 'cpu_percent', 'Total': 0, 'Count': 4, 'Maximum': 0, 'Minimum': 0, 'Average': 0, 'TimeGrain': 'PT1M', 'UnitName': 'Percent', 'RemoteIPCountry': '', 'RemoteIPLatitude': None, 'RemoteIPLongitude': None, 'MaliciousIP': '', 'IndicatorThreatType': '', 'Description': '', 'TLPLevel': '', 'Confidence': '', 'Severity': None, 'FirstReportedDateTime': '', 'LastReportedDateTime': '', 'IsActive': '', 'ReportReferenceLink': '', 'AdditionalInformation': '', 'Type': 'AzureMetrics', '_ResourceId': '/subscriptions/18d92f52-ac34-4379-ab8b-5a5106f1c54e/resourcegroups/sqlalertdemo1/providers/microsoft.sql/servers/sqlalertdemoserver/databases/sqlalertdemodatabase'},\n {'TenantId': '576e1cba-2d04-459e-b457-fe157e632dea', 'SourceSystem': 'Azure', 'TimeGenerated': datetime.datetime(2020, 10, 25, 20, 16, tzinfo=tzutc()), 'ResourceId': '/SUBSCRIPTIONS/18D92F52-AC34-4379-AB8B-5A5106F1C54E/RESOURCEGROUPS/SQLALERTDEMO1/PROVIDERS/MICROSOFT.SQL/SERVERS/SQLALERTDEMOSERVER/DATABASES/SQLALERTDEMODATABASE', 'OperationName': '', 'OperationVersion': '', 'Category': '', 'ResultType': '', 'ResultSignature': '', 'ResultDescription': '', 'DurationMs': None, 'CallerIpAddress': '', 'CorrelationId': '', 'Resource': 'SQLALERTDEMODATABASE', 'ResourceGroup': 'SQLALERTDEMO1', 'ResourceProvider': 'MICROSOFT.SQL', 'SubscriptionId': '18d92f52-ac34-4379-ab8b-5a5106f1c54e', 'MetricName': 'cpu_percent', 'Total': 0, 'Count': 4, 'Maximum': 0, 'Minimum': 0, 'Average': 0, 'TimeGrain': 'PT1M', 'UnitName': 'Percent', 'RemoteIPCountry': '', 'RemoteIPLatitude': None, 'RemoteIPLongitude': None, 'MaliciousIP': '', 'IndicatorThreatType': '', 'Description': '', 'TLPLevel': '', 'Confidence': '', 'Severity': None, 'FirstReportedDateTime': '', 'LastReportedDateTime': '', 'IsActive': '', 'ReportReferenceLink': '', 'AdditionalInformation': '', 'Type': 'AzureMetrics', '_ResourceId': '/subscriptions/18d92f52-ac34-4379-ab8b-5a5106f1c54e/resourcegroups/sqlalertdemo1/providers/microsoft.sql/servers/sqlalertdemoserver/databases/sqlalertdemodatabase'},\n {'TenantId': '576e1cba-2d04-459e-b457-fe157e632dea', 'SourceSystem': 'Azure', 'TimeGenerated': datetime.datetime(2020, 10, 25, 20, 17, tzinfo=tzutc()), 'ResourceId': '/SUBSCRIPTIONS/18D92F52-AC34-4379-AB8B-5A5106F1C54E/RESOURCEGROUPS/SQLALERTDEMO1/PROVIDERS/MICROSOFT.SQL/SERVERS/SQLALERTDEMOSERVER/DATABASES/SQLALERTDEMODATABASE', 'OperationName': '', 'OperationVersion': '', 'Category': '', 'ResultType': '', 'ResultSignature': '', 'ResultDescription': '', 'DurationMs': None, 'CallerIpAddress': '', 'CorrelationId': '', 'Resource': 'SQLALERTDEMODATABASE', 'ResourceGroup': 'SQLALERTDEMO1', 'ResourceProvider': 'MICROSOFT.SQL', 'SubscriptionId': '18d92f52-ac34-4379-ab8b-5a5106f1c54e', 'MetricName': 'cpu_percent', 'Total': 0, 'Count': 4, 'Maximum': 0, 'Minimum': 0, 'Average': 0, 'TimeGrain': 'PT1M', 'UnitName': 'Percent', 'RemoteIPCountry': '', 'RemoteIPLatitude': None, 'RemoteIPLongitude': None, 'MaliciousIP': '', 'IndicatorThreatType': '', 'Description': '', 'TLPLevel': '', 'Confidence': '', 'Severity': None, 'FirstReportedDateTime': '', 'LastReportedDateTime': '', 'IsActive': '', 'ReportReferenceLink': '', 'AdditionalInformation': '', 'Type': 'AzureMetrics', '_ResourceId': '/subscriptions/18d92f52-ac34-4379-ab8b-5a5106f1c54e/resourcegroups/sqlalertdemo1/providers/microsoft.sql/servers/sqlalertdemoserver/databases/sqlalertdemodatabase'},\n {'TenantId': '576e1cba-2d04-459e-b457-fe157e632dea', 'SourceSystem': 'Azure', 'TimeGenerated': datetime.datetime(2020, 10, 25, 20, 18, tzinfo=tzutc()), 'ResourceId': '/SUBSCRIPTIONS/18D92F52-AC34-4379-AB8B-5A5106F1C54E/RESOURCEGROUPS/SQLALERTDEMO1/PROVIDERS/MICROSOFT.SQL/SERVERS/SQLALERTDEMOSERVER/DATABASES/SQLALERTDEMODATABASE', 'OperationName': '', 'OperationVersion': '', 'Category': '', 'ResultType': '', 'ResultSignature': '', 'ResultDescription': '', 'DurationMs': None, 'CallerIpAddress': '', 'CorrelationId': '', 'Resource': 'SQLALERTDEMODATABASE', 'ResourceGroup': 'SQLALERTDEMO1', 'ResourceProvider': 'MICROSOFT.SQL', 'SubscriptionId': '18d92f52-ac34-4379-ab8b-5a5106f1c54e', 'MetricName': 'cpu_percent', 'Total': 0, 'Count': 4, 'Maximum': 0, 'Minimum': 0, 'Average': 0, 'TimeGrain': 'PT1M', 'UnitName': 'Percent', 'RemoteIPCountry': '', 'RemoteIPLatitude': None, 'RemoteIPLongitude': None, 'MaliciousIP': '', 'IndicatorThreatType': '', 'Description': '', 'TLPLevel': '', 'Confidence': '', 'Severity': None, 'FirstReportedDateTime': '', 'LastReportedDateTime': '', 'IsActive': '', 'ReportReferenceLink': '', 'AdditionalInformation': '', 'Type': 'AzureMetrics', '_ResourceId': '/subscriptions/18d92f52-ac34-4379-ab8b-5a5106f1c54e/resourcegroups/sqlalertdemo1/providers/microsoft.sql/servers/sqlalertdemoserver/databases/sqlalertdemodatabase'},\n {'TenantId': '576e1cba-2d04-459e-b457-fe157e632dea', 'SourceSystem': 'Azure', 'TimeGenerated': datetime.datetime(2020, 10, 25, 20, 19, tzinfo=tzutc()), 'ResourceId': '/SUBSCRIPTIONS/18D92F52-AC34-4379-AB8B-5A5106F1C54E/RESOURCEGROUPS/SQLALERTDEMO1/PROVIDERS/MICROSOFT.SQL/SERVERS/SQLALERTDEMOSERVER/DATABASES/SQLALERTDEMODATABASE', 'OperationName': '', 'OperationVersion': '', 'Category': '', 'ResultType': '', 'ResultSignature': '', 'ResultDescription': '', 'DurationMs': None, 'CallerIpAddress': '', 'CorrelationId': '', 'Resource': 'SQLALERTDEMODATABASE', 'ResourceGroup': 'SQLALERTDEMO1', 'ResourceProvider': 'MICROSOFT.SQL', 'SubscriptionId': '18d92f52-ac34-4379-ab8b-5a5106f1c54e', 'MetricName': 'cpu_percent', 'Total': 0, 'Count': 4, 'Maximum': 0, 'Minimum': 0, 'Average': 0, 'TimeGrain': 'PT1M', 'UnitName': 'Percent', 'RemoteIPCountry': '', 'RemoteIPLatitude': None, 'RemoteIPLongitude': None, 'MaliciousIP': '', 'IndicatorThreatType': '', 'Description': '', 'TLPLevel': '', 'Confidence': '', 'Severity': None, 'FirstReportedDateTime': '', 'LastReportedDateTime': '', 'IsActive': '', 'ReportReferenceLink': '', 'AdditionalInformation': '', 'Type': 'AzureMetrics', '_ResourceId': '/subscriptions/18d92f52-ac34-4379-ab8b-5a5106f1c54e/resourcegroups/sqlalertdemo1/providers/microsoft.sql/servers/sqlalertdemoserver/databases/sqlalertdemodatabase'},\n {'TenantId': '576e1cba-2d04-459e-b457-fe157e632dea', 'SourceSystem': 'Azure', 'TimeGenerated': datetime.datetime(2020, 10, 25, 20, 20, tzinfo=tzutc()), 'ResourceId': '/SUBSCRIPTIONS/18D92F52-AC34-4379-AB8B-5A5106F1C54E/RESOURCEGROUPS/SQLALERTDEMO1/PROVIDERS/MICROSOFT.SQL/SERVERS/SQLALERTDEMOSERVER/DATABASES/SQLALERTDEMODATABASE', 'OperationName': '', 'OperationVersion': '', 'Category': '', 'ResultType': '', 'ResultSignature': '', 'ResultDescription': '', 'DurationMs': None, 'CallerIpAddress': '', 'CorrelationId': '', 'Resource': 'SQLALERTDEMODATABASE', 'ResourceGroup': 'SQLALERTDEMO1', 'ResourceProvider': 'MICROSOFT.SQL', 'SubscriptionId': '18d92f52-ac34-4379-ab8b-5a5106f1c54e', 'MetricName': 'cpu_percent', 'Total': 0, 'Count': 4, 'Maximum': 0, 'Minimum': 0, 'Average': 0, 'TimeGrain': 'PT1M', 'UnitName': 'Percent', 'RemoteIPCountry': '', 'RemoteIPLatitude': None, 'RemoteIPLongitude': None, 'MaliciousIP': '', 'IndicatorThreatType': '', 'Description': '', 'TLPLevel': '', 'Confidence': '', 'Severity': None, 'FirstReportedDateTime': '', 'LastReportedDateTime': '', 'IsActive': '', 'ReportReferenceLink': '', 'AdditionalInformation': '', 'Type': 'AzureMetrics', '_ResourceId': '/subscriptions/18d92f52-ac34-4379-ab8b-5a5106f1c54e/resourcegroups/sqlalertdemo1/providers/microsoft.sql/servers/sqlalertdemoserver/databases/sqlalertdemodatabase'},\n {'TenantId': '576e1cba-2d04-459e-b457-fe157e632dea', 'SourceSystem': 'Azure', 'TimeGenerated': datetime.datetime(2020, 10, 25, 20, 12, tzinfo=tzutc()), 'ResourceId': '/SUBSCRIPTIONS/18D92F52-AC34-4379-AB8B-5A5106F1C54E/RESOURCEGROUPS/SQLALERTDEMO1/PROVIDERS/MICROSOFT.SQL/SERVERS/SQLALERTDEMOSERVER/DATABASES/SQLALERTDEMODATABASE', 'OperationName': '', 'OperationVersion': '', 'Category': '', 'ResultType': '', 'ResultSignature': '', 'ResultDescription': '', 'DurationMs': None, 'CallerIpAddress': '', 'CorrelationId': '', 'Resource': 'SQLALERTDEMODATABASE', 'ResourceGroup': 'SQLALERTDEMO1', 'ResourceProvider': 'MICROSOFT.SQL', 'SubscriptionId': '18d92f52-ac34-4379-ab8b-5a5106f1c54e', 'MetricName': 'physical_data_read_percent', 'Total': 0, 'Count': 4, 'Maximum': 0, 'Minimum': 0, 'Average': 0, 'TimeGrain': 'PT1M', 'UnitName': 'Percent', 'RemoteIPCountry': '', 'RemoteIPLatitude': None, 'RemoteIPLongitude': None, 'MaliciousIP': '', 'IndicatorThreatType': '', 'Description': '', 'TLPLevel': '', 'Confidence': '', 'Severity': None, 'FirstReportedDateTime': '', 'LastReportedDateTime': '', 'IsActive': '', 'ReportReferenceLink': '', 'AdditionalInformation': '', 'Type': 'AzureMetrics', '_ResourceId': '/subscriptions/18d92f52-ac34-4379-ab8b-5a5106f1c54e/resourcegroups/sqlalertdemo1/providers/microsoft.sql/servers/sqlalertdemoserver/databases/sqlalertdemodatabase'}]",
                        "text/html": ""
                    },
                    "metadata": {},
                    "execution_count": 29,
                    "output_type": "execute_result"
                }
            ],
            "execution_count": 29
        },
        {
            "cell_type": "markdown",
            "source": [
                "### 6.2 Looking at Deadlock for last one hour"
            ],
            "metadata": {
                "azdata_cell_guid": "68647fb3-c5c9-42f8-8fdb-fa1c068ed25d"
            }
        },
        {
            "cell_type": "code",
            "source": [
                "%%kql\r\n",
                "AzureDiagnostics \r\n",
                "| where  Category == 'Deadlocks' \r\n",
                "| where TimeGenerated > ago(1h)"
            ],
            "metadata": {
                "azdata_cell_guid": "5de3b9af-57bb-4dc3-8c64-245f061433a6"
            },
            "outputs": [
                {
                    "data": {
                        "text/plain": "<IPython.core.display.HTML object>",
                        "text/html": "<html>\n        <head>\n            \n            \n        </head>\n        <body>\n            <div><p style='padding: 10px; color: #3a87ad; background-color: #d9edf7; border-color: #bce9f1'>&nbsp;&nbsp;&nbsp;Samples@help<br>&nbsp;*&nbsp;Sqlalertdemo2@loganalytics</p></div>\n        </body>\n        </html>"
                    },
                    "metadata": {},
                    "output_type": "display_data"
                },
                {
                    "data": {
                        "text/plain": "Empty DataFrame\nColumns: [TenantId, TimeGenerated, ResourceId, Category, ResourceGroup, SubscriptionId, ResourceProvider, Resource, ResourceType, OperationName, ResultType, CorrelationId, ResultDescription, Tenant_g, JobId_g, RunbookName_s, StreamType_s, Caller_s, requestUri_s, Level, DurationMs, CallerIPAddress, OperationVersion, ResultSignature, id_s, status_s, LogicalServerName_s, Message, clientInfo_s, httpStatusCode_d, identity_claim_appid_g, identity_claim_http_schemas_microsoft_com_identity_claims_objectidentifier_g, userAgent_s, ruleName_s, identity_claim_http_schemas_xmlsoap_org_ws_2005_05_identity_claims_upn_s, systemId_g, isAccessPolicyMatch_b, EventName_s, httpMethod_s, subnetId_s, type_s, instanceId_s, macAddress_s, vnetResourceGuid_g, direction_s, subnetPrefix_s, primaryIPv4Address_s, conditions_sourcePortRange_s, priority_d, conditions_destinationPortRange_s, conditions_destinationIP_s, conditions_None_s, conditions_sourceIP_s, httpVersion_s, matchedConnections_d, startTime_t, endTime_t, DatabaseName_s, clientIP_s, host_s, requestQuery_s, sslEnabled_s, clientPort_d, httpStatus_d, receivedBytes_d, sentBytes_d, timeTaken_d, resultDescription_ErrorJobs_s, resultDescription_ChildJobs_s, identity_claim_http_schemas_microsoft_com_identity_claims_scope_s, workflowId_s, resource_location_s, resource_workflowId_g, resource_resourceGroupName_s, resource_subscriptionId_g, resource_runId_s, resource_workflowName_s, _schema_s, correlation_clientTrackingId_s, properties_sku_Family_s, properties_sku_Name_s, properties_tenantId_g, properties_enabledForDeployment_b, code_s, resultDescription_Summary_MachineId_s, resultDescription_Summary_ScheduleName_s, resultDescription_Summary_Status_s, resultDescription_Summary_StatusDescription_s, resultDescription_Summary_MachineName_s, resultDescription_Summary_TotalUpdatesInstalled_d, resultDescription_Summary_RebootRequired_b, resultDescription_Summary_TotalUpdatesFailed_d, resultDescription_Summary_InstallPercentage_d, resultDescription_Summary_StartDateTimeUtc_t, resource_triggerName_s, resultDescription_Summary_InitialRequiredUpdatesCount_d, properties_enabledForTemplateDeployment_b, resultDescription_Summary_EndDateTimeUtc_s, resultDescription_Summary_DurationInMinutes_s, resource_originRunId_s, ...]\nIndex: []",
                        "text/html": "<div>\n<style scoped>\n    .dataframe tbody tr th:only-of-type {\n        vertical-align: middle;\n    }\n\n    .dataframe tbody tr th {\n        vertical-align: top;\n    }\n\n    .dataframe thead th {\n        text-align: right;\n    }\n</style>\n<table border=\"1\" class=\"dataframe\">\n  <thead>\n    <tr style=\"text-align: right;\">\n      <th></th>\n      <th>TenantId</th>\n      <th>TimeGenerated</th>\n      <th>ResourceId</th>\n      <th>Category</th>\n      <th>ResourceGroup</th>\n      <th>SubscriptionId</th>\n      <th>ResourceProvider</th>\n      <th>Resource</th>\n      <th>ResourceType</th>\n      <th>OperationName</th>\n      <th>ResultType</th>\n      <th>CorrelationId</th>\n      <th>ResultDescription</th>\n      <th>Tenant_g</th>\n      <th>JobId_g</th>\n      <th>RunbookName_s</th>\n      <th>StreamType_s</th>\n      <th>Caller_s</th>\n      <th>requestUri_s</th>\n      <th>Level</th>\n      <th>DurationMs</th>\n      <th>CallerIPAddress</th>\n      <th>OperationVersion</th>\n      <th>ResultSignature</th>\n      <th>id_s</th>\n      <th>status_s</th>\n      <th>LogicalServerName_s</th>\n      <th>Message</th>\n      <th>clientInfo_s</th>\n      <th>httpStatusCode_d</th>\n      <th>identity_claim_appid_g</th>\n      <th>identity_claim_http_schemas_microsoft_com_identity_claims_objectidentifier_g</th>\n      <th>userAgent_s</th>\n      <th>ruleName_s</th>\n      <th>identity_claim_http_schemas_xmlsoap_org_ws_2005_05_identity_claims_upn_s</th>\n      <th>systemId_g</th>\n      <th>isAccessPolicyMatch_b</th>\n      <th>EventName_s</th>\n      <th>httpMethod_s</th>\n      <th>subnetId_s</th>\n      <th>type_s</th>\n      <th>instanceId_s</th>\n      <th>macAddress_s</th>\n      <th>vnetResourceGuid_g</th>\n      <th>direction_s</th>\n      <th>subnetPrefix_s</th>\n      <th>primaryIPv4Address_s</th>\n      <th>conditions_sourcePortRange_s</th>\n      <th>priority_d</th>\n      <th>conditions_destinationPortRange_s</th>\n      <th>conditions_destinationIP_s</th>\n      <th>conditions_None_s</th>\n      <th>conditions_sourceIP_s</th>\n      <th>httpVersion_s</th>\n      <th>matchedConnections_d</th>\n      <th>startTime_t</th>\n      <th>endTime_t</th>\n      <th>DatabaseName_s</th>\n      <th>clientIP_s</th>\n      <th>host_s</th>\n      <th>requestQuery_s</th>\n      <th>sslEnabled_s</th>\n      <th>clientPort_d</th>\n      <th>httpStatus_d</th>\n      <th>receivedBytes_d</th>\n      <th>sentBytes_d</th>\n      <th>timeTaken_d</th>\n      <th>resultDescription_ErrorJobs_s</th>\n      <th>resultDescription_ChildJobs_s</th>\n      <th>identity_claim_http_schemas_microsoft_com_identity_claims_scope_s</th>\n      <th>workflowId_s</th>\n      <th>resource_location_s</th>\n      <th>resource_workflowId_g</th>\n      <th>resource_resourceGroupName_s</th>\n      <th>resource_subscriptionId_g</th>\n      <th>resource_runId_s</th>\n      <th>resource_workflowName_s</th>\n      <th>_schema_s</th>\n      <th>correlation_clientTrackingId_s</th>\n      <th>properties_sku_Family_s</th>\n      <th>properties_sku_Name_s</th>\n      <th>properties_tenantId_g</th>\n      <th>properties_enabledForDeployment_b</th>\n      <th>code_s</th>\n      <th>resultDescription_Summary_MachineId_s</th>\n      <th>resultDescription_Summary_ScheduleName_s</th>\n      <th>resultDescription_Summary_Status_s</th>\n      <th>resultDescription_Summary_StatusDescription_s</th>\n      <th>resultDescription_Summary_MachineName_s</th>\n      <th>resultDescription_Summary_TotalUpdatesInstalled_d</th>\n      <th>resultDescription_Summary_RebootRequired_b</th>\n      <th>resultDescription_Summary_TotalUpdatesFailed_d</th>\n      <th>resultDescription_Summary_InstallPercentage_d</th>\n      <th>resultDescription_Summary_StartDateTimeUtc_t</th>\n      <th>resource_triggerName_s</th>\n      <th>resultDescription_Summary_InitialRequiredUpdatesCount_d</th>\n      <th>properties_enabledForTemplateDeployment_b</th>\n      <th>resultDescription_Summary_EndDateTimeUtc_s</th>\n      <th>resultDescription_Summary_DurationInMinutes_s</th>\n      <th>resource_originRunId_s</th>\n      <th>properties_enabledForDiskEncryption_b</th>\n      <th>resource_actionName_s</th>\n      <th>correlation_actionTrackingId_g</th>\n      <th>resultDescription_Summary_EndDateTimeUtc_t</th>\n      <th>resultDescription_Summary_DurationInMinutes_d</th>\n      <th>conditions_protocols_s</th>\n      <th>identity_claim_ipaddr_s</th>\n      <th>ElasticPoolName_s</th>\n      <th>identity_claim_http_schemas_microsoft_com_claims_authnmethodsreferences_s</th>\n      <th>RunOn_s</th>\n      <th>query_hash_s</th>\n      <th>SourceSystem</th>\n      <th>MG</th>\n      <th>ManagementGroupName</th>\n      <th>Computer</th>\n      <th>RawData</th>\n      <th>error_number_d</th>\n      <th>Severity</th>\n      <th>user_defined_b</th>\n      <th>state_d</th>\n      <th>duration_d</th>\n      <th>lock_mode_s</th>\n      <th>resource_owner_type_s</th>\n      <th>blocked_process_filtered_s</th>\n      <th>start_utc_date_t</th>\n      <th>end_utc_date_t</th>\n      <th>wait_type_s</th>\n      <th>delta_max_wait_time_ms_d</th>\n      <th>delta_signal_wait_time_ms_d</th>\n      <th>delta_wait_time_ms_d</th>\n      <th>delta_waiting_tasks_count_d</th>\n      <th>deadlock_xml_s</th>\n      <th>error_state_d</th>\n      <th>query_plan_hash_s</th>\n      <th>package_s</th>\n      <th>event_s</th>\n      <th>sessionName_s</th>\n      <th>originalEventTimestamp_t</th>\n      <th>audit_schema_version_d</th>\n      <th>event_time_t</th>\n      <th>sequence_number_d</th>\n      <th>action_id_s</th>\n      <th>action_name_s</th>\n      <th>succeeded_s</th>\n      <th>is_column_permission_s</th>\n      <th>session_id_d</th>\n      <th>server_principal_id_d</th>\n      <th>database_principal_id_d</th>\n      <th>target_server_principal_id_d</th>\n      <th>target_database_principal_id_d</th>\n      <th>object_id_d</th>\n      <th>user_defined_event_id_d</th>\n      <th>transaction_id_d</th>\n      <th>class_type_s</th>\n      <th>class_type_description_s</th>\n      <th>securable_class_type_s</th>\n      <th>duration_milliseconds_d</th>\n      <th>response_rows_d</th>\n      <th>affected_rows_d</th>\n      <th>client_ip_s</th>\n      <th>permission_bitmask_g</th>\n      <th>sequence_group_id_g</th>\n      <th>session_server_principal_name_s</th>\n      <th>server_principal_name_s</th>\n      <th>server_principal_sid_s</th>\n      <th>database_principal_name_s</th>\n      <th>target_server_principal_name_s</th>\n      <th>target_server_principal_sid_s</th>\n      <th>target_database_principal_name_s</th>\n      <th>server_instance_name_s</th>\n      <th>database_name_s</th>\n      <th>schema_name_s</th>\n      <th>object_name_s</th>\n      <th>statement_s</th>\n      <th>additional_information_s</th>\n      <th>user_defined_information_s</th>\n      <th>application_name_s</th>\n      <th>connection_id_g</th>\n      <th>data_sensitivity_information_s</th>\n      <th>host_name_s</th>\n      <th>session_context_s</th>\n      <th>is_server_level_audit_s</th>\n      <th>event_id_g</th>\n      <th>OptionName_s</th>\n      <th>OptionDesiredState_s</th>\n      <th>OptionActualState_s</th>\n      <th>OptionDisableReason_s</th>\n      <th>IsDisabledBySystem_d</th>\n      <th>DatabaseDesiredMode_s</th>\n      <th>DatabaseActualMode_s</th>\n      <th>Type</th>\n      <th>_ResourceId</th>\n    </tr>\n  </thead>\n  <tbody>\n  </tbody>\n</table>\n</div>",
                        "application/vnd.dataresource+json": {
                            "schema": {
                                "fields": [
                                    {
                                        "name": "TenantId",
                                        "type": "string"
                                    },
                                    {
                                        "name": "TimeGenerated",
                                        "type": "datetime"
                                    },
                                    {
                                        "name": "ResourceId",
                                        "type": "string"
                                    },
                                    {
                                        "name": "Category",
                                        "type": "string"
                                    },
                                    {
                                        "name": "ResourceGroup",
                                        "type": "string"
                                    },
                                    {
                                        "name": "SubscriptionId",
                                        "type": "string"
                                    },
                                    {
                                        "name": "ResourceProvider",
                                        "type": "string"
                                    },
                                    {
                                        "name": "Resource",
                                        "type": "string"
                                    },
                                    {
                                        "name": "ResourceType",
                                        "type": "string"
                                    },
                                    {
                                        "name": "OperationName",
                                        "type": "string"
                                    },
                                    {
                                        "name": "ResultType",
                                        "type": "string"
                                    },
                                    {
                                        "name": "CorrelationId",
                                        "type": "string"
                                    },
                                    {
                                        "name": "ResultDescription",
                                        "type": "string"
                                    },
                                    {
                                        "name": "Tenant_g",
                                        "type": "string"
                                    },
                                    {
                                        "name": "JobId_g",
                                        "type": "string"
                                    },
                                    {
                                        "name": "RunbookName_s",
                                        "type": "string"
                                    },
                                    {
                                        "name": "StreamType_s",
                                        "type": "string"
                                    },
                                    {
                                        "name": "Caller_s",
                                        "type": "string"
                                    },
                                    {
                                        "name": "requestUri_s",
                                        "type": "string"
                                    },
                                    {
                                        "name": "Level",
                                        "type": "string"
                                    },
                                    {
                                        "name": "DurationMs",
                                        "type": "integer"
                                    },
                                    {
                                        "name": "CallerIPAddress",
                                        "type": "string"
                                    },
                                    {
                                        "name": "OperationVersion",
                                        "type": "string"
                                    },
                                    {
                                        "name": "ResultSignature",
                                        "type": "string"
                                    },
                                    {
                                        "name": "id_s",
                                        "type": "string"
                                    },
                                    {
                                        "name": "status_s",
                                        "type": "string"
                                    },
                                    {
                                        "name": "LogicalServerName_s",
                                        "type": "string"
                                    },
                                    {
                                        "name": "Message",
                                        "type": "string"
                                    },
                                    {
                                        "name": "clientInfo_s",
                                        "type": "string"
                                    },
                                    {
                                        "name": "httpStatusCode_d",
                                        "type": "number"
                                    },
                                    {
                                        "name": "identity_claim_appid_g",
                                        "type": "string"
                                    },
                                    {
                                        "name": "identity_claim_http_schemas_microsoft_com_identity_claims_objectidentifier_g",
                                        "type": "string"
                                    },
                                    {
                                        "name": "userAgent_s",
                                        "type": "string"
                                    },
                                    {
                                        "name": "ruleName_s",
                                        "type": "string"
                                    },
                                    {
                                        "name": "identity_claim_http_schemas_xmlsoap_org_ws_2005_05_identity_claims_upn_s",
                                        "type": "string"
                                    },
                                    {
                                        "name": "systemId_g",
                                        "type": "string"
                                    },
                                    {
                                        "name": "isAccessPolicyMatch_b",
                                        "type": "boolean"
                                    },
                                    {
                                        "name": "EventName_s",
                                        "type": "string"
                                    },
                                    {
                                        "name": "httpMethod_s",
                                        "type": "string"
                                    },
                                    {
                                        "name": "subnetId_s",
                                        "type": "string"
                                    },
                                    {
                                        "name": "type_s",
                                        "type": "string"
                                    },
                                    {
                                        "name": "instanceId_s",
                                        "type": "string"
                                    },
                                    {
                                        "name": "macAddress_s",
                                        "type": "string"
                                    },
                                    {
                                        "name": "vnetResourceGuid_g",
                                        "type": "string"
                                    },
                                    {
                                        "name": "direction_s",
                                        "type": "string"
                                    },
                                    {
                                        "name": "subnetPrefix_s",
                                        "type": "string"
                                    },
                                    {
                                        "name": "primaryIPv4Address_s",
                                        "type": "string"
                                    },
                                    {
                                        "name": "conditions_sourcePortRange_s",
                                        "type": "string"
                                    },
                                    {
                                        "name": "priority_d",
                                        "type": "number"
                                    },
                                    {
                                        "name": "conditions_destinationPortRange_s",
                                        "type": "string"
                                    },
                                    {
                                        "name": "conditions_destinationIP_s",
                                        "type": "string"
                                    },
                                    {
                                        "name": "conditions_None_s",
                                        "type": "string"
                                    },
                                    {
                                        "name": "conditions_sourceIP_s",
                                        "type": "string"
                                    },
                                    {
                                        "name": "httpVersion_s",
                                        "type": "string"
                                    },
                                    {
                                        "name": "matchedConnections_d",
                                        "type": "number"
                                    },
                                    {
                                        "name": "startTime_t",
                                        "type": "datetime"
                                    },
                                    {
                                        "name": "endTime_t",
                                        "type": "datetime"
                                    },
                                    {
                                        "name": "DatabaseName_s",
                                        "type": "string"
                                    },
                                    {
                                        "name": "clientIP_s",
                                        "type": "string"
                                    },
                                    {
                                        "name": "host_s",
                                        "type": "string"
                                    },
                                    {
                                        "name": "requestQuery_s",
                                        "type": "string"
                                    },
                                    {
                                        "name": "sslEnabled_s",
                                        "type": "string"
                                    },
                                    {
                                        "name": "clientPort_d",
                                        "type": "number"
                                    },
                                    {
                                        "name": "httpStatus_d",
                                        "type": "number"
                                    },
                                    {
                                        "name": "receivedBytes_d",
                                        "type": "number"
                                    },
                                    {
                                        "name": "sentBytes_d",
                                        "type": "number"
                                    },
                                    {
                                        "name": "timeTaken_d",
                                        "type": "number"
                                    },
                                    {
                                        "name": "resultDescription_ErrorJobs_s",
                                        "type": "string"
                                    },
                                    {
                                        "name": "resultDescription_ChildJobs_s",
                                        "type": "string"
                                    },
                                    {
                                        "name": "identity_claim_http_schemas_microsoft_com_identity_claims_scope_s",
                                        "type": "string"
                                    },
                                    {
                                        "name": "workflowId_s",
                                        "type": "string"
                                    },
                                    {
                                        "name": "resource_location_s",
                                        "type": "string"
                                    },
                                    {
                                        "name": "resource_workflowId_g",
                                        "type": "string"
                                    },
                                    {
                                        "name": "resource_resourceGroupName_s",
                                        "type": "string"
                                    },
                                    {
                                        "name": "resource_subscriptionId_g",
                                        "type": "string"
                                    },
                                    {
                                        "name": "resource_runId_s",
                                        "type": "string"
                                    },
                                    {
                                        "name": "resource_workflowName_s",
                                        "type": "string"
                                    },
                                    {
                                        "name": "_schema_s",
                                        "type": "string"
                                    },
                                    {
                                        "name": "correlation_clientTrackingId_s",
                                        "type": "string"
                                    },
                                    {
                                        "name": "properties_sku_Family_s",
                                        "type": "string"
                                    },
                                    {
                                        "name": "properties_sku_Name_s",
                                        "type": "string"
                                    },
                                    {
                                        "name": "properties_tenantId_g",
                                        "type": "string"
                                    },
                                    {
                                        "name": "properties_enabledForDeployment_b",
                                        "type": "boolean"
                                    },
                                    {
                                        "name": "code_s",
                                        "type": "string"
                                    },
                                    {
                                        "name": "resultDescription_Summary_MachineId_s",
                                        "type": "string"
                                    },
                                    {
                                        "name": "resultDescription_Summary_ScheduleName_s",
                                        "type": "string"
                                    },
                                    {
                                        "name": "resultDescription_Summary_Status_s",
                                        "type": "string"
                                    },
                                    {
                                        "name": "resultDescription_Summary_StatusDescription_s",
                                        "type": "string"
                                    },
                                    {
                                        "name": "resultDescription_Summary_MachineName_s",
                                        "type": "string"
                                    },
                                    {
                                        "name": "resultDescription_Summary_TotalUpdatesInstalled_d",
                                        "type": "number"
                                    },
                                    {
                                        "name": "resultDescription_Summary_RebootRequired_b",
                                        "type": "boolean"
                                    },
                                    {
                                        "name": "resultDescription_Summary_TotalUpdatesFailed_d",
                                        "type": "number"
                                    },
                                    {
                                        "name": "resultDescription_Summary_InstallPercentage_d",
                                        "type": "number"
                                    },
                                    {
                                        "name": "resultDescription_Summary_StartDateTimeUtc_t",
                                        "type": "datetime"
                                    },
                                    {
                                        "name": "resource_triggerName_s",
                                        "type": "string"
                                    },
                                    {
                                        "name": "resultDescription_Summary_InitialRequiredUpdatesCount_d",
                                        "type": "number"
                                    },
                                    {
                                        "name": "properties_enabledForTemplateDeployment_b",
                                        "type": "boolean"
                                    },
                                    {
                                        "name": "resultDescription_Summary_EndDateTimeUtc_s",
                                        "type": "string"
                                    },
                                    {
                                        "name": "resultDescription_Summary_DurationInMinutes_s",
                                        "type": "string"
                                    },
                                    {
                                        "name": "resource_originRunId_s",
                                        "type": "string"
                                    },
                                    {
                                        "name": "properties_enabledForDiskEncryption_b",
                                        "type": "boolean"
                                    },
                                    {
                                        "name": "resource_actionName_s",
                                        "type": "string"
                                    },
                                    {
                                        "name": "correlation_actionTrackingId_g",
                                        "type": "string"
                                    },
                                    {
                                        "name": "resultDescription_Summary_EndDateTimeUtc_t",
                                        "type": "datetime"
                                    },
                                    {
                                        "name": "resultDescription_Summary_DurationInMinutes_d",
                                        "type": "number"
                                    },
                                    {
                                        "name": "conditions_protocols_s",
                                        "type": "string"
                                    },
                                    {
                                        "name": "identity_claim_ipaddr_s",
                                        "type": "string"
                                    },
                                    {
                                        "name": "ElasticPoolName_s",
                                        "type": "string"
                                    },
                                    {
                                        "name": "identity_claim_http_schemas_microsoft_com_claims_authnmethodsreferences_s",
                                        "type": "string"
                                    },
                                    {
                                        "name": "RunOn_s",
                                        "type": "string"
                                    },
                                    {
                                        "name": "query_hash_s",
                                        "type": "string"
                                    },
                                    {
                                        "name": "SourceSystem",
                                        "type": "string"
                                    },
                                    {
                                        "name": "MG",
                                        "type": "string"
                                    },
                                    {
                                        "name": "ManagementGroupName",
                                        "type": "string"
                                    },
                                    {
                                        "name": "Computer",
                                        "type": "string"
                                    },
                                    {
                                        "name": "RawData",
                                        "type": "string"
                                    },
                                    {
                                        "name": "error_number_d",
                                        "type": "number"
                                    },
                                    {
                                        "name": "Severity",
                                        "type": "integer"
                                    },
                                    {
                                        "name": "user_defined_b",
                                        "type": "boolean"
                                    },
                                    {
                                        "name": "state_d",
                                        "type": "number"
                                    },
                                    {
                                        "name": "duration_d",
                                        "type": "number"
                                    },
                                    {
                                        "name": "lock_mode_s",
                                        "type": "string"
                                    },
                                    {
                                        "name": "resource_owner_type_s",
                                        "type": "string"
                                    },
                                    {
                                        "name": "blocked_process_filtered_s",
                                        "type": "string"
                                    },
                                    {
                                        "name": "start_utc_date_t",
                                        "type": "datetime"
                                    },
                                    {
                                        "name": "end_utc_date_t",
                                        "type": "datetime"
                                    },
                                    {
                                        "name": "wait_type_s",
                                        "type": "string"
                                    },
                                    {
                                        "name": "delta_max_wait_time_ms_d",
                                        "type": "number"
                                    },
                                    {
                                        "name": "delta_signal_wait_time_ms_d",
                                        "type": "number"
                                    },
                                    {
                                        "name": "delta_wait_time_ms_d",
                                        "type": "number"
                                    },
                                    {
                                        "name": "delta_waiting_tasks_count_d",
                                        "type": "number"
                                    },
                                    {
                                        "name": "deadlock_xml_s",
                                        "type": "string"
                                    },
                                    {
                                        "name": "error_state_d",
                                        "type": "number"
                                    },
                                    {
                                        "name": "query_plan_hash_s",
                                        "type": "string"
                                    },
                                    {
                                        "name": "package_s",
                                        "type": "string"
                                    },
                                    {
                                        "name": "event_s",
                                        "type": "string"
                                    },
                                    {
                                        "name": "sessionName_s",
                                        "type": "string"
                                    },
                                    {
                                        "name": "originalEventTimestamp_t",
                                        "type": "datetime"
                                    },
                                    {
                                        "name": "audit_schema_version_d",
                                        "type": "number"
                                    },
                                    {
                                        "name": "event_time_t",
                                        "type": "datetime"
                                    },
                                    {
                                        "name": "sequence_number_d",
                                        "type": "number"
                                    },
                                    {
                                        "name": "action_id_s",
                                        "type": "string"
                                    },
                                    {
                                        "name": "action_name_s",
                                        "type": "string"
                                    },
                                    {
                                        "name": "succeeded_s",
                                        "type": "string"
                                    },
                                    {
                                        "name": "is_column_permission_s",
                                        "type": "string"
                                    },
                                    {
                                        "name": "session_id_d",
                                        "type": "number"
                                    },
                                    {
                                        "name": "server_principal_id_d",
                                        "type": "number"
                                    },
                                    {
                                        "name": "database_principal_id_d",
                                        "type": "number"
                                    },
                                    {
                                        "name": "target_server_principal_id_d",
                                        "type": "number"
                                    },
                                    {
                                        "name": "target_database_principal_id_d",
                                        "type": "number"
                                    },
                                    {
                                        "name": "object_id_d",
                                        "type": "number"
                                    },
                                    {
                                        "name": "user_defined_event_id_d",
                                        "type": "number"
                                    },
                                    {
                                        "name": "transaction_id_d",
                                        "type": "number"
                                    },
                                    {
                                        "name": "class_type_s",
                                        "type": "string"
                                    },
                                    {
                                        "name": "class_type_description_s",
                                        "type": "string"
                                    },
                                    {
                                        "name": "securable_class_type_s",
                                        "type": "string"
                                    },
                                    {
                                        "name": "duration_milliseconds_d",
                                        "type": "number"
                                    },
                                    {
                                        "name": "response_rows_d",
                                        "type": "number"
                                    },
                                    {
                                        "name": "affected_rows_d",
                                        "type": "number"
                                    },
                                    {
                                        "name": "client_ip_s",
                                        "type": "string"
                                    },
                                    {
                                        "name": "permission_bitmask_g",
                                        "type": "string"
                                    },
                                    {
                                        "name": "sequence_group_id_g",
                                        "type": "string"
                                    },
                                    {
                                        "name": "session_server_principal_name_s",
                                        "type": "string"
                                    },
                                    {
                                        "name": "server_principal_name_s",
                                        "type": "string"
                                    },
                                    {
                                        "name": "server_principal_sid_s",
                                        "type": "string"
                                    },
                                    {
                                        "name": "database_principal_name_s",
                                        "type": "string"
                                    },
                                    {
                                        "name": "target_server_principal_name_s",
                                        "type": "string"
                                    },
                                    {
                                        "name": "target_server_principal_sid_s",
                                        "type": "string"
                                    },
                                    {
                                        "name": "target_database_principal_name_s",
                                        "type": "string"
                                    },
                                    {
                                        "name": "server_instance_name_s",
                                        "type": "string"
                                    },
                                    {
                                        "name": "database_name_s",
                                        "type": "string"
                                    },
                                    {
                                        "name": "schema_name_s",
                                        "type": "string"
                                    },
                                    {
                                        "name": "object_name_s",
                                        "type": "string"
                                    },
                                    {
                                        "name": "statement_s",
                                        "type": "string"
                                    },
                                    {
                                        "name": "additional_information_s",
                                        "type": "string"
                                    },
                                    {
                                        "name": "user_defined_information_s",
                                        "type": "string"
                                    },
                                    {
                                        "name": "application_name_s",
                                        "type": "string"
                                    },
                                    {
                                        "name": "connection_id_g",
                                        "type": "string"
                                    },
                                    {
                                        "name": "data_sensitivity_information_s",
                                        "type": "string"
                                    },
                                    {
                                        "name": "host_name_s",
                                        "type": "string"
                                    },
                                    {
                                        "name": "session_context_s",
                                        "type": "string"
                                    },
                                    {
                                        "name": "is_server_level_audit_s",
                                        "type": "string"
                                    },
                                    {
                                        "name": "event_id_g",
                                        "type": "string"
                                    },
                                    {
                                        "name": "OptionName_s",
                                        "type": "string"
                                    },
                                    {
                                        "name": "OptionDesiredState_s",
                                        "type": "string"
                                    },
                                    {
                                        "name": "OptionActualState_s",
                                        "type": "string"
                                    },
                                    {
                                        "name": "OptionDisableReason_s",
                                        "type": "string"
                                    },
                                    {
                                        "name": "IsDisabledBySystem_d",
                                        "type": "number"
                                    },
                                    {
                                        "name": "DatabaseDesiredMode_s",
                                        "type": "string"
                                    },
                                    {
                                        "name": "DatabaseActualMode_s",
                                        "type": "string"
                                    },
                                    {
                                        "name": "Type",
                                        "type": "string"
                                    },
                                    {
                                        "name": "_ResourceId",
                                        "type": "string"
                                    }
                                ],
                                "kqmagic_version": "0.1.113.post1"
                            },
                            "data": []
                        }
                    },
                    "metadata": {},
                    "output_type": "display_data"
                },
                {
                    "data": {
                        "text/plain": "<IPython.core.display.HTML object>",
                        "text/html": "<html>\n        <head>\n            \n            \n        </head>\n        <body>\n            <div><p style='padding: 10px; color: #3a87ad; background-color: #d9edf7; border-color: #bce9f1'>Done&nbsp;(00:00.363):&nbsp;0&nbsp;records</p></div>\n        </body>\n        </html>"
                    },
                    "metadata": {},
                    "output_type": "display_data"
                },
                {
                    "data": {
                        "text/plain": "[]",
                        "text/html": ""
                    },
                    "metadata": {},
                    "execution_count": 30,
                    "output_type": "execute_result"
                }
            ],
            "execution_count": 30
        }
    ]
}